{
  "nbformat": 4,
  "nbformat_minor": 0,
  "metadata": {
    "colab": {
      "provenance": [],
      "gpuType": "T4",
      "collapsed_sections": [
        "ZqUKpZ3OJQmn"
      ],
      "authorship_tag": "ABX9TyO6u4hwO09uWjL/wB3d6Mi5",
      "include_colab_link": true
    },
    "kernelspec": {
      "name": "python3",
      "display_name": "Python 3"
    },
    "language_info": {
      "name": "python"
    },
    "accelerator": "GPU"
  },
  "cells": [
    {
      "cell_type": "markdown",
      "metadata": {
        "id": "view-in-github",
        "colab_type": "text"
      },
      "source": [
        "<a href=\"https://colab.research.google.com/github/diogoasilveira/KISS/blob/main/KISS.ipynb\" target=\"_parent\"><img src=\"https://colab.research.google.com/assets/colab-badge.svg\" alt=\"Open In Colab\"/></a>"
      ]
    },
    {
      "cell_type": "markdown",
      "source": [
        "#KISS: Keep It Simple Search"
      ],
      "metadata": {
        "id": "qN_2FB4E-eUp"
      }
    },
    {
      "cell_type": "markdown",
      "source": [
        "Projeto que implementa os conceitos de LLM, RAG, Embeddings e Prompt Engineering com o objetivo de que um modelo de linguagem tenha a habilidade de responder perguntas que não possuem resposta nos dados em que ele foi treinado (e.g. notícias recentes) por meio do acesso à internet."
      ],
      "metadata": {
        "id": "Bqz-kf8B-ddj"
      }
    },
    {
      "cell_type": "markdown",
      "source": [
        "![KISS.jpeg](data:image/jpeg;base64,/9j/4AAQSkZJRgABAQEAeAB4AAD/2wBDAAgGBgcGBQgHBwcJCQgKDBQNDAsLDBkSEw8UHRofHh0aHBwgJC4nICIsIxwcKDcpLDAxNDQ0Hyc5PTgyPC4zNDL/2wBDAQkJCQwLDBgNDRgyIRwhMjIyMjIyMjIyMjIyMjIyMjIyMjIyMjIyMjIyMjIyMjIyMjIyMjIyMjIyMjIyMjIyMjL/wAARCAJrAccDASIAAhEBAxEB/8QAHAABAQACAwEBAAAAAAAAAAAAAAYFBwIDBAEI/8QAWRAAAQMDAQMECg0JBAcHBQAAAAECAwQFEQYSITEHE0FRFBUWIlRhcYGT0hcyN1VWdJGSlKGxstMjMzZCU3JzlbNSYsHiJDRDdYKD0SU1REZjosImduHw8f/EABYBAQEBAAAAAAAAAAAAAAAAAAABAv/EABoRAQEBAQEBAQAAAAAAAAAAAAARASFBAjH/2gAMAwEAAhEDEQA/AN/gAAAAAAAAAAAAAAAAAAAAAAAAAAAAAAAAAAAAAAAAAAAAAAAAAAAAAAAAAAAAAAAAAAAAAAAAAAAAAAAAAAAAAAAAAAAAAAAAAAAAAAAAAAAAAAAAAAAAAAAAAAAAAAAAAAAAAMTX6lslsVzK270UEjeMb5m7Xzc5Mc3XVknRVpHV1WmcZp6CZ6L5F2cKIKcEv3axfB/Uf8secma1okTNRbL3TJ1zW2VPsRRBTAm6fXWl6l7mJeaeJ7eLanMKp5nohn4ZoqiJJYZGSMdwexyKi+dAO0AAAAAAAAAAAAAAAAAAAD4qoiZVcIgH0HXz0X7RnzkHPRftGfOQDsB189F+0Z85Bz0X7RnzkA7AdfPRftGfOQc9F+0Z85AOwHXz0X7RnzkHPRftGfOQDsB189F+0Z85Bz0X7RnzkA7AdfPRftGfOQc9F+0Z85AOwHXz0X7RnzkHPRftGfOQDsB189F+0Z85Dk1zXJlrkVPEoHIAAAAAAAAAAAAAAAAAAAAAPLWVtLb6V9VWVEcEEaZdJI5GtTzqY6+X6GyQxtSGSqr6l3N0lHF7eZ/+DU4q5dyJ8hjqDTM9fVMump3sra1vfQ0qJ/o9L4mt/Wd1uXPRjgBwZqO73xcactiNpXcLjcEdHG5Otkftn7uncm47E0e+v76/3mvuWc7UDH9j06/8DMKvnVSrBaMXb9P2e04SgtlJTrw2o4Wo5fKvFTKAEAAAeeopaesiWOpgimjXiyRiORfMpgZ9DWRZXTUMEtrqVTHP26V0DkTyN71fOhTACSdHq2yZWGaC/Uif7OZEgqUTqRyd47p4oiqZG0alt94nfSsdJS18aZkoqpnNzN8eyvFPGmU4GcMRebBb77E1tZE5JY1zDUxLsSwu62PTei/UEZcEhSXev09Ww2nUcqTQTuRlHdUbstkd/YlTg1/UvB3lyV4UAAAAAAAAAAAAweqrnNadO1dTStR9W5Gw07euV7ka361RfMB4Ljebnc7pNZ9Oc22SBdmsuErdqOmVU9q1v67/ABcE6eO5HoS0y7Mt1Wpu9Si5WWtnc9MrxwxFRqJ4sGXsVohsVmp7fCqu5tuZJF4yPXe5yr1quVMoET/cPpb3iofRIO4fS3vFQ+iQoMjIurE/3D6W94qH0SDuH0t7xUPokKDIyLpE/wBw+lveKh9Eg7h9Le8VD6JCd1PW3O+66odF2+41Fsp+wnXG4VVK5GzPj29hscbv1F2t6rxwqeNF8OqrLcND2d+pdP3u8TuoFbJU0NdWPqIqmLaTbTv87Dsb9pOhFF0iw7h9Le8VD6JB3D6W94qH0SHCj1Qyt1c6xxUyLH2sjuLannPbI96tRuzjxZznp4GNm5QaSktOorjWUUjI7PcHUDY4n84+pfhmzsphMKqvRMb8YzkXSMr3D6W94qH0SDuH0t7xUPokMTRaxu0V3ttDqLTvallz7ylmjrWzt53ZV3NSJstVrsIuMZRV3GPi5RrrW1F7itmk5qttnqaqCpmWsaxirEjlbs96rnOfs42URdnKZVRdIpu4fS3vFQ+iQdw+lveKh9Eh4LjriGl0RQaio6RauS4rTspKPnth0kkqoiM2sLhUyud36qlY1V2e+wi9OFyLpGC7h9Le8VD6JB3D6W94qH0SFBkZF0if7h9Le8VD6JDok0Fp1XJLTUC0U7Uw2ajlfC9vkVqp9ZT5GRdIjX1120c9i3Sofc7HlGrWub+XpcrhOcRPbt4d8iZ456M1sb2yMR7HI5rkRWuRcoqdaHyWKOohfDKxr43tVrmOTKORdyoqdRNaQV9vkumnJJHPS2TN7Gc7Oex5E2mJleOz3zc/3SirABAAAAAAAAAAAAAxGo73FpyxVF1nhfNHArNpjFRHKjntbuz1bWfMBlzwXS401otdVcKp+zBTsV716Vx0J41XcnjU81i1DatQ0nZFsq2zIiJts4PjXqc3in2dRjdSMW5X6w2RUzA+V1bUonSyFEVrV60V7m/IB90zaql8suoLuz/tWuamI13pSw8WxN6ut3WpUggWap1Hfb7eaHTNJaUgtM/Y0s1xnkR0smzldljG5a1FymVVc4ynSBfAnrLfKqostVWX+3rZpaSR7J+elRYtlv8AtGP3ZYqdK44L5V52XV+ndQ1MlPabzS1c0e90ccnfY60Rd6p403AZ4E7Wa30vbbkttrL/AG+CqauHMkna3YXqcvBq+JcHsumobRZVxc7lTUa82sv5aRG94jkaq7/G5qeVUAywMFdNW6esr4GXK80VI6diPibNMjVc1f1sL0eMxl91YyzaossM1dRU9nqaWpqKieZ6Ii7HNozZdnG9X+cCwBi7PfbXf6Rau03CnrYUXZc+F6O2V6lTii+JSUg5QZZ+UN1kSiZ2nWofb469rsqtYyNsjo16ETCq3rygF+CN1TqC+0Go7JZLFTW6SouMdRIr6572sakSNXixFXftL0HCk1TeaPVFBYdS2ulp5Lk2RaOqoal0sb3Rt2nMcjmtc1cb0Xp4AU9wt9NdaCairYGTU8zdl7HJxT/BelF6DBaZraqjr6nTV0mdNU0jElpah/tqinVcIq9bmr3rvNx4nZo/UdRqLt/2RBHF2tvFRb49jPfsj2cOXPSu0desGdhLab+xUa63VbGyuVeMEqpG9F+Vq+YCrAAAAAAAAAAAltao7sK0PziNl3pHSdWzzicfPgqTE6htKX3T9bbVfzbpmYjf/Yei5a7zORFAywMFpm9reraizt5m4068zWwKmFjlTju6l4ovUZ0AAAAAAgtT2u72vWlBrGz0LrlsUjqCvo2PRsjoVfttdHncrkdxRV3oiJ40wl31FW8pturtL2Cz19EjpWwXKruDWRdhtyjnNRiOVznqiKmNyePpNsE3UaOtVRqNt/alVT3HaYsr6aqkjbPsL3qSNauHomMb03puUCduUdbpflGjvUdmuFxtc1pZb2dr4klkikZIrkRzcp3qovtuCLxxxJqp0nqG+6N1dBNaHU9dUXpLlTUssmykrMMXY2mrjOyioqouNrgqcU3WANRaf0/YK7UNtlotBX6jfTzc/LVXSrnibTOZvarUdI5JVVURMImMLvXihTcnlsrbb3WJXUskCVWoqyph5xuOcidsbL060XClueWspuzKGem56aDno3M52B+y9mUxlq9Cp0KBqfS9lqU5RJtMqjHWLTFVLX06MxhH1DUdDGqdCs25lRfJ4jcRhrBp2g05Syw0STOfPIss89RK6WWZ+MbT3u3quEQzIAAAAAANeXek1BX8oVYmnbrDb0jooErHuibIqqqyKzDVauV86blLW5XGltNvnrqyVI6eBque5fsTrVeCJ0qYfSNJUJTVl4r4lirbtN2Q6NyYdFGiI2Ni+NGonnVS4jFpZuUKJcN1TQTovTLRtaqeTZacu1fKJ7/2r6N/lLgCkQ/avlE9/wC1fRv8o7V8onv/AGr6N/lLgCkQ/avlE9/7V9G/yjtXyie/9q+jf5S4ApEP2r5RPf8AtX0b/KO1fKJ7/wBq+jf5S4ApEL2BykRb47xZJs8Ulhc1E8my0+9jcpnhunPmy+qXIFIhuxuUzw3TnzZfVJzXEOuGaOr3Xmpsr6BOb51tMknOL+UbjGWontsebJtwxV9s1NqCzT2ysdI2CZWK9Y1RHLsuR2Mqn90Uj81aegvU14iSwtqezm72rTrhWp1uXgjevO7rN2WOO9R65okv8tPLW9ppEV0DVRv55nHoV3XhEQrbTZ7dZKJtJbqOKmhTijE3uXrVeLl8a7zCapd2su9jv7nK2CmndTVS5REbFMiNRzl6mvRi+cu7SRWGs6il0bqO/XSqhu9bYNQU8vM1kkFctLO5I0TDnMVVa9mMYdhUVOk2YYm46asV3nSe52a3VsrUwj6mlZIqJ1ZcimVacvN6ut65ML/FUXGK6UdsvUUC3LmkVlRTNexe+azCO2VVuVTcqdPSVMVIlx1fpeqqNVWGeopuckoorbQua6aHYVHNRySuRGYXqxuNjRUdLDRtpIaaGOna3YSFjERiN6tlN2PEeS26dstme+S12igoXvTD3UtMyNXJ1KrUTcBpO76gmuuh9VTsqrHZ6eeqqI+1DaTnKupl3Irnqr0VJFwi5Rq4RM9BVUTaO+a10FVTbFW1LFLO17u+RX4jTK9aplePBfGhsNlhs8VykuUdqoWV0iKj6ltOxJHZ45djK5PtLZLVb1gdR2yipnQNcyFYadjFja5cuRuE3Iq71ROKgQluksdNrvXMGo30LZZ+ZenZeyiS0nMomG7XFqKio7G7J0w0un63V3J9JbadWWxlDWz0EUkbk6I8Lh2/g5zk8yp0GxLhZ7Zd2xJcrdSVqRO240qYGybC9abSLhTsdQUjqiCpdSQOqKdrmwSqxNqJqoiKjVxlqKiJnHUBrSpvkWj9Vco91RMNipKGdkX6r53Mexu7o2nbKLjymKqdIa2pOTaGgbR2d1XQypdGVPZcr6lalrllV2ysWyr1y5vtsb+JtmeyWqqnkmqbXRTSyuY6SSSnY5z1Z7RVVU3q3K46s7jJgaju1bPrHVGgbhY7q62yVtDWTNnZCyZY+9j2mbLstyi5avkUrbZouWK/Ut8vl9q71cKON8dK6WKOGOHb3OVrGIiZVMJlc/ZjO09ltVGtMtLa6ODsVHpTrFAxvMo9cv2MJ3u0vHHHpMkBr/ks/wDOv/3XXf8AwMxygqxugbwsmdnmMJv6dpMfXgzlLQ0lCs/YlJBT8/K6ebmY0ZzkjvbPdji5cJlV3qT+q39n1to0/HhzqyqbPOipnEESo92erLkaieUZ+ipbnZTa443+U5gAAAAAAAAAAABOXbTstTcEu1qqu191Y1GulRu1HO1P1ZG/rJ1LxTzIeZuo73QtVl30zWPe3dz1sVtRG/rVGqqOb5FRVKwAS/drF8H9R/yx47tYvg/qP+WPKgDgl+7WL4P6j/ljx3axfB/Uf8seVAHBL92sXwf1H/LHju1i+D+o/wCWPKgDgl+7WL4P6j/ljzyP5RbbHXx0MlsvTKyVu1HTuoXJI9u/ejeKpuX5FLM1/e2tTll0u5GptLSzoq43qiMkx9q/KEZju1i+D+o/5Y8d2sXwf1H/ACx5UAcVL92sXwf1H/LHju1i+D+o/wCWPKgDgl+7WL4P6j/ljx3axfB/Uf8ALHlQBwS/drF8H9R/yx5xTVlbUorbdpa8yy473sqJtMzzueuU+RSqAEnT6euF1rYq/Us8UqQuR9PbqfPMRO6HOVd8jk8e5N+E3lYAAAAAAAAAAAAAAAAAAPLX0UFxoKiiqWbcE8bo3t60VMHqAElpq4z0FUumLvK5a6nZmkqH8KyBODkX+2ibnJx3Z371K0xV7slLfqNIKhZI5I3bcFRC7ZkhenBzXdCmEptQ1dhlZQaqRrGquzDdo24gm6tv9m/y7l34UqLAHBr2yMR7HI5rkyiouUVDmRQAAAAAAAAAwV61NQ2Z7KdyvqbhL+ZoadNuWTzJwTcu9d25QPbdLpSWW3S11bLzcMaeVXL0NanSq9CGI01b6t89RqC7R83cq5EayFf/AAsCb2x+Xpd418R1W6xV1yuUN51Jza1ES7dJQRu2oqTxqv68n97gi8OjFYEAAFAAAAAAAAAAAAAAAAAAAAAAgL57sml/i0/3JC/IC+e7Jpf4tP8AckLiavwARQAAAAAAAAAAAAAAAAAAAAAAAAAAAAAOieGKphfDPEyWJ6bL2PajmuRehUXid4Ak3aVqbW5ZdM3J1vRVytHOizUzl47mquWZXpavmPqajvFt7296dqdlFwtTbV7IjXrcrdz2p5lKsAT9HrTTlcqtju9MyRF2VjqHcy/PVsvwpnI5GSt2o3te1elq5Q6Ku20NwZs1tFTVLeqaJr0+tDCTaC0tM/bWzwRu6Fgc6JU8mwqBFMDWGsNP0NpksNNQS3CnStuMdM9WV0q4Y5cYRHOXr+opl0BpuRyunt8tQ7/16uaTPmc7AGXrL5aLb/rtzo6deqWdrVXzKph11vQ1KbNno7hd352UWlp3JGi+OR2GonjypkqTTNhoFR9LZqCJ6cHtp27Xy4yZfGNyDipJaXVd7T/TKmCx0jk76Kkdz1QqdKLIqbLfK1FMtZtPWyxNk7Cp1SWVcy1EjlfLKvW5671+wzAFAAAAAAAAAAAAAAAAAAAAAAAAAAACAvnuyaX+LT/ckL8gL57sml/i0/3JC4mr8AEUAAAAAAAAAAAAAAAAAAAAAAAAAAAAAAAAAAAAAQ/KGiI/S709s2+U+F6uP/QuCH5RlRkWm5Xe1Ze6dV/93/QuB4gAAoAAAAAAAAAAAAAAAAAAAAAAAAAAAAAEBfPdk0v8Wn+5IX5AXz3ZNL/Fp/uSFxNX4AIoAAAAAAAAAAAAAAAAAAAAAAAAAAAAAAAAAAAAAhuU3/u2w/76p/seXJC8qKImnKGVNz4rlA9i9S98mfrUs1qqdJEj5+LbXg3bTK+YeI7wAFAAAAAAAAAAAAAAAAAAAAAAAAAAAAAAgL57sml/i0/3JC/IC+e7Jpf4tP8AckLiavwARQAAAAAAAAAAAAAAAAAAAAAAAAAAAAAAAAAADg9jZGOY9qK1yKiovShzAH5i1tY59P6nqKKR8kkK/lKZ73K5ViVVwmV6t6L40Uu+R3S+XS6kqo9yZho0VPM96fdT/iLHXOi2awo6ZI5WQVVPMipK5FX8mq9+3d043p40xuyqlNQUVPbqCCipWJHBAxI429SImDW/XGZ16wAZaAAAAAAAAAAAAAAAAAAAAAAAAAAAAAAgL57sml/i0/3JC/IC+e7Jpf4tP9yQuJq/ABFAAAAAAAAAAAAAAAAAAAAAAAAAAAAAAAAAAB8PFW19PQRskqHORJH7DEZG57nOwq4RrUVV3Iq8OCKe0xF3XFwsi9Va/iuE/wBXmA590NB/ZrvoE/qHbQ3WiuaTdiT7boX7ErFarHxuxnDmuRFTcud6GMg1HtTtbUVFijhX2z47rtuTyNWNEX5UMJXzPpZrhdbPV2ueeHbq8tqu/fEjU2o3Maio5verhcphVRd2/IXp9Q+H1AAAAAAAAAAAAAAAAAAAAAAAAAAAAAAAQF892TS/xaf7khfkBfPdk0v8Wn+5IXE1fgAigAAAAAAAAAAAAAAAAAAAAAAAAAAAAAAAAAA+GIu/+v2Tj/rr+HxebrMuYa9q6Ka11CxSyRwVavl5mJ0jmtWGVqLstRVXe5qcOkDAdkz+F3P0tt/6HGeaSSyXlHT1r07XVG6d9GrfaL+xTa/w+o7uYpPCLt/Ik/AOuqji7VXKCmW6VE9RSSwxxutKxIrnNVE75sTcb+tcdYFx1H1D4fUAAAAAAAAAAAAAAAAAAAAAAAAAAAAAABAXz3ZNL/Fp/uSF+QF892TS/wAWn+5IXE1fgAigAAAAAAAAAAAAAAAAAAAAAAAAAAAAAAAAAA+A+gDy1VXT0FK+pq6iKngZjalmejGtyuEyq7k3qiHKGaOphZNC9skUjUcx7XIrXNVMoqKnFFQjOVJGP0zRwubtLLcYWNZjO0vfbvkRS0gijpoWQxRtjijajWMY1Ea1qbkRETgiIB3H1AAAAAAAAAAAAAAAAAAAAAAAAAAAAAAAAQF892TS/wAWn+5IX5AXz3ZNL/Fp/uSFxNX4AIoAAAAAAAAAAAAAAAAAAAAAAAAAAAAAAAAAAAAAhuU3/u2w/wC+qf7HlyQ/KO3nINORKuEfe6dFVOPByf4lwPEAAFAAAAAAAAAAAAAAAAAAAAAAAAAAAAAAgL57sml/i0/3JC/IC+e7Jpf4tP8AckLiavwARQAAAAAAAAAAAAAAAAAAAAAAAAAAAAAAAAAAADy1dUlHRzVLo5JGxMV6sjblyoiZXCdK+ICS5RFTa0w3O9b5T7vlLY07qjX9hvdXp+Wmmma2iucVROkkSorWNVMqmM58hf2bW2n9QVvYdtrnTVGwr1Z2PI3DU4qqq1ETinT0l3NiKQAEUAAAAAAAAAAAAAAAAAAAAAAAAAAAAACAvnuyaX+LT/ckL8gL57sml/i0/wByQuJq/ABFAAAAAAAAAAAAAAAAAAAAAAAAAAAAPiqiJlVwgH0E/Waz07QzJDLdYJJlXZ5qnzM/PVssRVPO3V0lQ9zaHTl8qOlHupkhYvnkcn2CCoBLtvOq5nLzelIoG9C1FyZlfMxrvtD364kd+Tg0/Ci9L5ZpFTzI1uflAqATDYNavb39fYmL1MpJXJ9bzn2v1b8ILd/LV/EA0tyjaXXT+p3LTRKlHXKstOjU3Iue+YnkVd3iVDbHJ3pJNMWJr52Ilyq0R86rxYnQzzdPjVfEc63Td+uUlLJV3i2TPpJkmhV1sXvHoioi/nPH8qJ1Hu7X6t+EFv8A5av4hrduJFICa7D1gz2t5tMuf2lA9uPkkOtzddMd3sunpmovB0c0aqnlRXY+QyqpBMpW6xhZmSzWmpd/6Fe9mfnRnFNRXuFirW6Rr2onTS1EM+fIm0i/UIKgEqmu7RC1FuMVxtiqqJ/p1FIxM/vIit+sztDdKC5xLLQVtPVMTi6GRHonlxwA9oAAAAAAAAAAAAAAAAAAAAAAABAXz3ZNL/Fp/uSF+QF892TS/wAWn+5IXE1fgAigAAAAAAAAAAAAAAAAAAAAAAAAAAGttT3Cmm1g+ivvZvaClpmPelPt81tvVcLNs71b3qonRu8Zskm7f+n99+J0n2ylxNe2xvsS0mLEtBzHVR7GPPs9PlMuT9fo3T1xess9pp0mVdpZYUWJ+evaZhcnQmkOZdtUOoL5S4TCM7L51ieaRHBVOCX7S6ohk2odWpI3obU26N31tVp9fBreNMRV1hm8ctLKz7HqQU4Jds2t255yjsD06Nipmbj5WHPs7V8e51ktcnjZcHNT64xBSgm+2Grfg/b/AOZL+GO2Grfg/b/5kv4YgpATXZOsnIqpbLM3PBHVsi48uIzh/wDXb/g5Fj+PJn7uPrAqATLrfq+ZO+v9up/HDbld96Q4t0zeJmbNbq+5v8dNFDB9jFApnbKNXaxjG/JrzU79LOdL2ty7UOy5YXWb8+juGXqzdjhna6DO9wlllRi1/Ztyezejq6skl+pV2fqM1S22htlHJDQUkFLGqKqthjRiKuOO4qPJpe4TXPS9srqpWrPPTtfIqJhFXG9TMk9oX9BrL8VZ9hQk1QAAAAAAAAAAAAAAAAAAAAAIC+7uWLSyruRaadM+PYeX5qjlPuUtm1jpu5QsV7qZHyOa1N7moqbSfNyXE1tcHmo6yCvo4qullbLBM1Hse1coqKekigAAAAAAAAAAAAAAAAAAAAAAAABxVUTcqomdyAcibt36f334nSfbKUhN279P778TpPtlCKQABQAAAAAAAAAAAAAOuX8y/wDdX7DsOuX8y/8AdX7AMFoX9BrL8VZ9hQk9oX9BrL8VZ9hQjTAAAAAAAAAAAAAAAAAAAAAAILUkUdRyo6VhlY2SN8FW17VTKORYnIqKnUXpDX73WNJfwar+m4uJry9otRaLqXyaZa25WaR6vdbJn7L4VXjzb16P/wBwq7zvbyoWymRG3i23W1y9LaimXZz1IvFfkQvAKIb2WdJ+Fz/R3D2WdJ+Fz/R3FzgYJxUN7LOk/C5/o7h7LOk/C5/o7i5wMDghvZZ0n4XP9HcPZZ0n4XP9HcXOBgcEN7LOk/C5/o7h7LOk/C5/o7i5wMDghvZZ0n4XP9HcPZZ0n4XP9HcXOBgcEN7LOk/C5/o7h7LOk/C5/o7i5wMDghvZZ0n4XP8AR3D2WdJ+Fz/R3FzgYHBDeyzpPwuf6O4eyzpPwuf6O4ucDA4Ib2WdJ+Fz/R3D2WdJ+Fz/AEdxc4GBwQ3ss6S8Ln+juJbXuvLNf9Ndj2iqn7LhnjmRebcxWoi4yi9eVQ3ERnKRZq+/aZjoLdCs1Q+qjXGUREREdlVVeCFyVNa70zyuXK3bFNemOuFMm7nW4SZqeXg7z4XxmxdNXGmu+q7pX0iyLBPQ0jmK9isXGZehf/51GM0pyV2yyqypuuxcK5N6NVPyMa+Jq+2Xxr4tyFDbv0/vvxOk+2UuzwystJc6GG5wW6SqiZWVDXPhhc7DpEb7ZWp046Rc7nRWehkrrjUxUtLGqI+WV2GoqqiJ8qqiEnylU0tNa6HVNJGr6zT1SlXhid8+Be9nZnoRWLlf3Tzallj1ZrLTVgpntmt8TUvda5vB8bd0DepUc9cqi9CZMq2FxPpoak13db3Yqy/R6gu9NcXPkkobZTWh0tKjWuVGxPeka7auxhXI5MbXiwWPb++an1DaLNR1Uti52ysu1Y9kDXyo57kYkKJIio1EXKquyq7kTcBsCSZkCI6WRrGucjEV6oiK5VwieVVVERD0GntY0OqKaz6To7zfkkqXalpqZKiiiaznY1XMcj2uaqJI1WZwne796OxkzaVF81DrK8acpr/VW+jsdPTMlnhhiWeqlljVyPc5W7LU3b0a1MrnggGxjHXS8W2y0i1dzr6ejp0XHOTyIxFXqTPFd3BN5q2bV2q4tKyQMroXXmi1MyzrVuhajalmUw57E3N2tpMomFwnFFKHUOkr/UUunq2kuMd3udmqnzvbXo2KOpRyKi7mNw17dyNXG7evECnsuq7DqJz22i7UlY9jUe5kUiK5qL0q3ihlYp4pVfzcrH7DlY7Zci7Lk4ovUviIClu9FcdZ2qPUumKmyaldDM231LpWSscmz37WyMXDlRMrhzd2fHvl7VdbtpTRGrb1T3GeurEvc9LDFUtZzfOumaznV2Wou1vyqZ2ehEQDdoNa3CTUGi71p2as1NU3ejuley3VcNRTxMRJJEdsvj2ERWIip7Xf5TyWe/6hmXWGoay7vltuna+vihtzIWNSdImuc1HvxnCIrUTHSmVyBtU65fzL/wB1fsNGRa2vUWnaS/QX28XC9PWOeW1dp3tpJI3KmY2OSLdhq7n7S52enJvKRUdTvVOCtVfqAwehf0GsvxVn2FCT2hf0GsvxVn2FCNMAAAAAAAAAAAAAAAAAAAAAAhr97rGkv4NV/TcXJDX73WNJfwar+m4YLkAAAAAAAAAAAAAAAAAAAAAAAAAAAAAJu3fp/ffidJ9spSE3bv0/vvxOk+2UIzs9PFVU8tPPGkkMrFY9jkyjmqmFRfMSmhtDN0ZFW7dxkuE9Q5kbJZGbKxwRt2YouK+1TO9MZzwLIBWv6LQ17slNVWmwambQWWaV0kULqFJJqZHLlzI5NpEwqquFc1VTx8TK3jS1VVXSjvFouz6G8UlOtLz0sLZmVESuRytkbuVd7c5aqYVVKsAQlboGqrdORUc+oKie8Q3Nl0iuE7Fc1k7XZRGxbWEYiKqIxFwmcnKo0feob4t7s9/hpLnVU0cFy26BJIapzEw2RG7aKxyIq7tpUxhPLcgCBh5OGwWOkou2j5atLzHeKyrkhTNTMjtp3eoqIxFwiJjOPGZrUWna27VNDX2u8TWy4Uau5t6M52KRrkw5skaqiO8S8UKQARcWkLnXajt141He2V621XPpKampOYia9zcK92XOVyp0b0x8p5V5OueodSWmqujpLNd6h9UyBsOJaeZzmvVySZ75Ec3KJgvgBCUujb3V3u11updStukFrdztPTw0LadJJsKiSyKjlyqIq7kwmceNFyFi0fDaqHUdFVTtrKe93CqrJGc3sI1kyIixrvXOERd+7jwKsAQlp0dqK10dLaY9XO7T0kjeba2iRtSsTV72JZdrGNyIqo3Kpu3FvL+Zf+6v2HYdcv5l/wC6v2AYLQv6DWX4qz7ChJ7Qv6DWX4qz7ChGmAAAAAAAAAAAAAAAAAAAAAAQ1+91jSX8Gq/puLkhr97rGkv4NV/TcMFyAAAAAAAAAAAAAAAAAAAAAAAAAAAAAE3bv0/vvxOk+2UpCYuttu9Je33yy8zUPlgbDUUM7thJUaqq1WP/AFXd8qb928CnBKprSOky282i62xzUy97qZZovM+PaRfqPbS6w05W/mL5QKq8Guna1y+ZcKIM6DqimimbtRSMkb1scip9R2gAAAAAAAAADwVV5tdCmau5UdP/ABZ2s+1QPedcv5l/7q/YTrtd6d51YaatdWzJ/s6KB86r52oqfWeaW6akvcKxWqzvtkErVRa25qiPYi7l2YWqq56U2lROsQe7Qv6DWX4qz7ChPBaLdFaLRSW6FznR00TY2udxdhOKnvAAAAAAAAAAAAAAAAAAAAAABDX73WNJfwar+m4uSGv3usaS/g1X9NwwXIAAAAAAAAAAAAAAAAAAAAAAAAAAAAAAAB4aq0224Jitt9JU/wAaFr/tQ9wAmqjQelp12nWSlY5N6LCixKnkVqpg+M0PZ4kRIH3KnROCRXGdPN7YpgKJZdGMRcx3/UUa573ZuLnI3zOyny5DdITsVHN1XqHaThtVEbk+RYypApGtNYQXyyRWuK26luL6uvrWUreyVj5tu1lMrsszxx17slK7StXI3Zfqu+4/uSRNX5UjMZygoravSkv6rL3Ai9fH/wDBclRLdxrnJiTVGo3t6uzUb9bWov1nJmiqPGJrrfJ+vnbnLvTq3Km4pwSqlncn+mpH7c9BJUO66iqlk+pzlQ99PpTTtMqOhsdua5vB3YzFcnnVMmaAo6442RsRrGtY1OCNTCHYAAAAAAAAAAAAAAAAAAAAAAAAAAIa/e6xpL+DVf03FyQ1+91jSX8Gq/puGC5AAAAAAAAAAAAAAAAAAAAAAAAAAAAAAAAAAAAAAABE8on/AJY/35Tf/ItiH5RlRkWnJHe1be6dVX53/QuB4gAAoAAAAAAAAAAAAAAAAAAAAAAAAAAAAAENfvdY0l/Bqv6bi5Ia/e6xpL+DVf03DBcgAAAAAAAAAAAAAAAAAAAAAAAAAAAAAAAAAAAAAAAhuU3/ALtsP++qf7HlyQvKauza7I9dzWXmnc5ehEw/epdDxAABQAAAAAAAAAAAAAAAAAAAAAAAAAAAAAIa/e6xpL+DVf03FyQ1+91jSX8Gq/puGC5AAAAAAAAAAAAAAAAAAAAAAAAAAAAAAAAAAAAAD5nG9T6cHNa9qtciOa5MKipuVAIflOlY/TdNG17XPSuhcrUXK7KKuVx1FRFfrRNVNpYrrQyVL/awtqGK93kai5U/PGudNrpfU89IxqpSS/lqZf7iqu7youU82ekvuR7TCRRSaiqmd/JmKkRU4N4Of5171PI7rNbnGb1twAGWgAAAAAAAAAAAAAAAAAAAAAAAAAAAAAIa/e6xpL+DVf03FyQupcQcpukKh64Y9KmJPKrMJ9bkLiaugARQAAAAAAAAAAAAAAAAAAAAAAAAAAACMnqK3V1dPQW2pfSWWmfzdTWxLiSpenGOJehqdLuvcm7IGVuOrrNbqtaN9Us9b4JSxumlz1K1qLjz4PH3YvdvZpfUbm9C9htbnzOei/KhmbVZ7fZaNKa3UkVPEnFGJvcvW5eLl8a7zIjgl+7GX4Kaj+ix/iDuxl+Cmo/osf4hUAcEv3Yy/BTUf0WP8Qd2MvwU1H9Fj/EKgDg1drXZ1hQUsL9M6ihmgmR7ZexGZRiqiPb7fpTenjahQ0upkoqSGlp9I6ijghYkcbEpWYa1EwifnCwBakS/djL8FNR/RY/xB3Yy/BTUf0WP8QqATipfuxl+Cmo/osf4g7sZfgpqP6LH+IVAHBK92sEOXVtkvtFEm90s1CrmNTrVWK7BmbXd7deqXsi21sVVEm5VjdlWr1KnFF8SmRyTl30tTV1QtwoJFt13bvZW06YVy9UjeD27kyijiKME9YL5NcJai3XKNlPd6NUSoiYq7L2r7WRmeLHfKnBShCgAAAAAAAAAAAAAAAAAAAAASmurDU3qwtlt+UudBK2qpFTGVe3o86fWiFWAJ7S+p6TVFs5+Feaqo+9qaVy4fC/pRU4444X/ABRUShJG+6Fo7pXpdKCrntN1T/xVMuNv99u7a+VM9OTxNg5SKBFjjq7HcmIuGyTsex6p40bhPtKi7BDdk8pngWnPnS+sOyeUzwLTnzpfWEKuQQ3ZPKZ4Fpz50vrDsnlM8C0586X1hCrkEN2TymeBac+dL6w7J5TPAtOfOl9YQq5BDdk8pngWnPnS+sOyeUzwLTnzpfWEKuQQ3ZPKZ4Fpz50vrDsnlM8C0586X1hCrkEN2TymeBac+dL6w7J5TPAtOfOl9YQq5BDdk8pngWnPnS+sOyeUzwLTnzpfWEKuQQ3ZPKZ4Fpz50vrDsnlM8C0586X1hCrkEN2TymeBac+dL6w7J5TPAtOfOl9YQqwqqhlHRz1UiKrYY3SORvHCJlcfIeKy6hteoKXsi2Vkc7URNpqLhzP3mrvQkLpUcoq2itSpo9PpAsEnOKxZNpG7K5x33HBo+3VVdR10Utumniqs4jWBVR6qvQmN656i5803X6T1jX1FHYFhopNiurpmUdM7qfIuM+Zu0vmMnardTWe1U1vpW7MNPGjGp144qvjVd6+NSDt0+pqqbTC6oggicte5Y8d7I7EEmFe1NyLnhjHjRDZZAABFDVmlafWWqNNMu8et6mjllmnYka2+nlY3YlcxvFqLwbv3m0zUnJ9oehumjY57hUXdizVFSklNHXzQxKnPPTGw1yJhU+XIGTtXKUyj0hNdtSsVH0l2fapp6OP8m9zXYSVEV2djHHCrvRcJ0GVquUO20Vroaya13lKmvlfFSW7sNUq5tn2zmxqvtcYXKqm5UMTrbT9BbNL6dtNstzIqKO90TeYjZlNnb75XdK56VXj0nLWtSywa+05qauilW0U8FRTVFQyNz0pXPRFa9yNTKIuFTIGXoeUC2VlvvNRNSXCjqbNA6oq6CrgSOdI2tV201M7LkXZXCo7HDOMoY6PlasCw0VVUUN5pLdWNTma+eiVIXPVu1zaKiqqu4puRUVUXCrjJL19U3Vd11pqS0NmktMelZ7c2ZYnNbUzLtvyzKJtYRMZx0p1mUrqJZOTbk5idTq50ddaXOaseVbuajlVOjiufKoFVatcUF0rqyifRXK31tNTdl9jV0HNSSQ5xttTKoqZ3b1RUXcqJvMRTcrdhnoobj2DemWp6JzlxdRKsELl/Ve5qrvRdyq1FRF3ZF7id7KqzJG7Z7maliv2d2edaqJn5SEtF/o5OQ2HScVJVPvtVRvjp6COlkVZke9zmytXGyrcLtK7OEXKLvA2I7W9Z7KbdLRWueSi7ASoWdjWqu057USTO3+aRFVF3bW10Y3lyarpon6c5XbRJcle2Go05HbYZ+bc5slQ2ZmW5TOF4Lld2/ibUAAACS1eztZNQamiVWPoJmx1OP16aRyNei9eFVHJ1YUrTBaxax+i73t8OwpV86NXH1mStznutlI6X846Fiu3537KZCPWAAoAAAAAAAAAAAAAAAAAAAAAAAAAAAAAAAAAAAAAAAAAAAAAAADy19KtbbqqkR+ws0T49rGcbSKmfrMBpjQ9n0tEjqWLnaxUw+qlRFevXjoaniTz5KkATGtopW2WG507XvmtVVHWoxnFzWrh6fMc75CgpqmKrpYqmF6PhmYkkb04OaqZRfkO1zUcioqIqLuVFIqmnfoaqdQ1aPXTksmaWq49hK5d8ci8djPtXdGcKvVRbg6o5GTRNkie17HJlrmrlFTrRTtIAAAAAAAAPPVQdk0k9PtbPOxuZtYzjKYyY/TNlXTumrdZuyOyOw4Gw87sbG3jp2crj5VMwAAAAAGIvN8oLDRpPWSrtOXZigYm1JM5dyNY3iqquP8QMXraRaq201gicvZN3nbAiNXvmxIqOld5Eai/KhUoiNRETgm4mbFbK6ouEuobwzm6+dnN09Mi5SkhznZ8b14uXzJgqAAAAAAAAAAAAAAAAAAAAAAAAAAAAAAAAAAAAAAAAAAAAAAAAAAAAAAAdUkbJonRyMa9jkVHNcmUVOpUO0ASrtHJRPfJp+6VdnVyqvMR4lp8rxXmnbk/4VQ7EotYRJstvNqmT+1LQPavyJJgpgKJvsfWXvlZfoUv4g7H1l75WX6FL+IUgAm+x9Ze+Vl+hS/iDsfWXvlZfoUv4hSACE1Jc9Xac0/VXaSss87KfYzG2kkRV2nI3jzn94yFNHrWalhkmrLNBK9iOfEtJI5Y3Km9uUkwuF3ZQ6uVD3Obt/wAn+swsAib7H1l75WX6FL+IOx9Ze+Vl+hS/iFIAqb7H1l75WX6FL+IOx9Ze+Vl+hS/iFIAJd9p1VVK1J9TQUzM9+2jt6I5U6kc9zseXB6rVpW22qrWs/L1lwVMLWVkiyy46kVdzU38GohngAAAAAAAAAAAAAAAAAAAAAAAAAAAAAAAAAAAAAAAAAAAAAAAAAAAAAAAAAAAAAAAAAAAEfyoe5xdv+T/WYWBH8qHucXb/AJP9ZhYDxAABQAAAAAAAAAAAAAAAAAAAAAAAAAAAAAAAAAAAAAAAAAAAAAAAAAAAAAAAAAAAAAAAAAAAAAAOmRzo2Pc1jpFRFVGMxl3iTOEz5VAlOVD3Obt/yf6zCxNM615SrPfdMXCzwUVxhqpVY3/SImNRqtka5UXD1VPar0cSv0/yk2nU14jt1BQ3LnHtc5XyRMRjERN6uVHrhOCcOKoWbEq3ABFAAAAAAAAAAAAAAAAAAAAAAAAAAAAAAAAAAAAAAAAAAAAAAAAAAAAAAAAAAAAAAAAAAAAAAE3Waxt0VY6ioI6i61rVw6CgZzmx++7KNbv61OptTrOuVro6C12uNeKVMzqiT5GbLfrUQa45W9J9g17b/Rx4p6p2zUo1NzJeh3kd9qeMrOSfTHajT3bSoZiruCI9ueLYv1U8/tvOnUZG4aa1FdqKakrtSUj6eZNl8Papqtx5Vfnozk9Mds1dSR4iv1uqVRMNZNbVjani7x5q8iTqqBKdutTW1EW5aeZWRomXzWqfbXzRvRHL5lUyVp1Ja706RlFVos8f5ymkRWSx447THYVPLwMqzIAAAAAAAAAAAAAAAAAAAAAAAAAAAAAAAAAAAAAAAAAAAAAAAAAAAAAAAAAAAAAAAAB0zSx08Mk0r2sijarnvcuEaib1VVA8t0utHZbfJXXCdIYI+Ll3qq9CIib1VepCdbQ3bVqLNdlmttmdnm7dG5WTTt65nJvaip+onXvXcfLPSu1VcY9R3CNy0EKr2qpXphMft3IvFzv1c8EwvHeWZfxHloqCkt1K2moqaKngZ7WOJqNRPkPUARQAADDXfTltvaNdVQq2pj/NVULtiaJehWvTenk4GZAEdFeLnpqojo9RTJUW+RyMguzW7OyqrhGzJwav97hwz0lhnO9DpqKaGrp5KeeJksMjVY+N6Za5F4oqEraJJ9M3mLTlZK+ShqEc611D1yqInGByr0tTe1elN3iKixABFAAAAAAAAAAAAAAx12u1DZaF1ZcJkhiTcnS5zl4Naib1VepDIkfZoO6K/wBTqGr7+mpJX01siXe1qNXZfLj+05yKiL0IgHa256suject1opLdTrvY+6SOWRydfNs9r5Fcc9jXfhGnPQT+uVAAl9jXfhGnPQT+uNjXfhGnPQT+uVB4bpcae02qruNU5W09LC+aRU47LUVVx49wGF2Nd+Eac9BP642Nd+Eac9BP65I6EvOoafUNJBqatfKzUlE640LHrup5EcrnQMRd+6N7HeLZwUVx1xJDqat09bbDXXO50sccqsikjjYrHIq5V71RG43J1rnd0gezY134Rpz0E/rjY134Rpz0E/rngXlJtyaWjvLaOqWaSu7WtoHbDZUqtpW825Vdst4Zyq8N/iFRrmuttsudTd9K3OkkoaZKpWNcyWOSPaw7Zlauyjm8VauFwmUyB79jXfhGnPQT+uNjXfhGnPQT+ucbzra3We9WK2yRSzOu6/k5YsK2JquY1rn9SOc9qIvWdd017bbVV3yCaCpf2oZT86sTUc6SWb83ExvFXLu8W9AO7Y134Rpz0E/rjY134Rpz0E/rnlt2tal97o7XfNOVtmluG12E+aWOVkrmptK1VYq7DsZXC9XWfbHrlNQ36pttBZq50VHVTU1XWOVrYoXMyidOXK5UTcibkciqB6djXfhGnPQT+uNjXfhGnPQT+uVAAlef1vRosktFZrixE/NU0skEi+RX7TV86oe+yaipL0ssTGTU1ZAuJ6SpZsSx9SqnSi9CpuM2S+q7XItK2+W5EbdbciyxOT/AGzE3uid1o5M46lxgCoB47bXRXO2U1dBnmqiJsrM8URyZwvj3mBuWvLHQXiltMVR2VXVFRHBzcHfJGrnI3LncExngmV8QFUAAAAAAAAAAAAAAAAAABKarV1yqrdpqNzkbXvWSrVvFtNHhXJ1ptLstz41KslrSi1mvb/WvaipSRQUMLk6sLI9Plc35C4KSONkUbY2NRrGoiNaiYRETgiHaAQASmu7tXWawQVFBOsEz6+lhc7Ya7LHyta5MORU3oq+MqwAJLk7u9dfNGwV9yn5+qfPUMdIrWtyjZntamGoibkREJvVOsrxYeVu129k6JYewopq6FY2Ybzk7oEk21TaTDnRbkXGEUDaINdcrGrLrpqxQw2CRI7pUK+bnFY1/NwRN2pHYcip/ZbvT9bdvNgQuV0LHKu9Woq/IB2mE1RaFvdjlp4l5uriVJ6SVOMczd7FTz7l8SqZsAYrT91S+WGkuKN2HTR5kZhe8kTc9u/qcip5jKktpjFJedSWpFdsw1yVLEXobMxH4TxbW39ZUgAAAAAAAAAAAAAHB2dhdnjjd5Sa5P1i7g7RzSYakKoqf3kcu19eSoI23VCaX1DUWetejLdcJnVFumcvetkcuXwqvQu0uW9ecZzuAsgAAILlJoa7UVPatKUkVQ2nutUi19VHGqthp4+/ciuxhrnKjUbnjhUL0Aas1boy72+1wX233y8Xa42aZlXS0c3NYeiKiPamxGjt7NpMJx4YMzpqKaXlG1Ncuw6mKlq6SgdDJNC5m13j1VN6cUymU4ovEugBqG3W9YNO6vgvWmK652+s1VUukgjicknMOVmzNG1MOeiKib2b+KpwU9Wl6KprdQXS10j73U6Oqba6ORt5jkRWTOXZVkSyoj1bs5ynBF6eBtQAaQtFgvty0pqGSut9TBcbTbqe227MbkfK+kVZUezPFHPSPCpxwd1bpy8X/k1uF4W3VaXauvPbV1A/McyRRu2GxIu5UVI25Tpzw34N0gDV1lpLFeL/AGl9PYdVSSU7lqVnus9U2Oie1NyKkr1a56quMNz18DNcnVBPQUWoOfpZYHz36smTnI1ar2q5NlyZ4oqImF4FuAAAAHByojVVyoiIm/PDBzJTVVyfUNTTdskR10uDVY5W7+xoV3Pld1blwnWqpgDXdRbNZVfJ1bHWuoWS28w7bpKdqtmVu07G0vF6YxuTH7q8TX9nirF1BQQ0T2wVy1cbYXyJuZJtojVVMLwXHQvkP1JQ0kVvoKaigRUip4mxMRV37LUwn2GFumjLPdLtR3V0HM19NURzpLFhqyK1yLh6cHcOPHxms+mYm+03Kt8JrV6Nv4J97Tcq3wmtXo2/gmyASrGt+03Kt8JrV6Nv4I7Tcq3wmtXo2/gmyAKRrftNyrfCa1ejb+CO03Kt8JrV6Nv4JsgCka37Tcq3wmtXo2/gjtNyrfCa1ejb+CbIApGt+03Kt8JrV6Nv4I7Tcq3wmtXo2/gmyAKRrftNyrfCa1ejb+CO03Kt8JrV6Nv4JsgCka37Tcq3wmtXo2/gnztNyrfCa1ejb+CbJApGt+0/Kt8JrV6Nv4JlOT9Lm2O+su7o3XBtyVsz4/avVIo02k8qIi8E48E4FoS1sctFr++Ubl3VsEFdEn7qc0/62s+UUVIAIqE5U3czo+KZyPVkNxpJX7DFcqNbK1VXCZVcInQZC1coOmb3cobdb62eWqmVUYx1DPGi4RVXvnMRE3IvFSrAGodA6609pzSUVsulTU09ZFU1KvjSgqH4R0z3JvaxUXcqLxPRcbfTat5T541bI633PRqsZMsatwj6jLVw5NzkRUdhd6Y4G1gBo58d31Bo7Vl9vFJLHX0dq7TRRq1cufGm1PIif3nqiIqdDPk3ZD/q8f7ifYdoAAACYtOz3f6j2PB6Pb/exJj6sFOS2lU7KumorrsKjaiv5iNV/WZC1I8p4tpHlSNAAAAAAAAAAAAAAPDcbZR3Wilo66mZUU8qYdG9Ny+PxL403nuAEpFp+/Wx2xadRK+mTOxT3KDn9jxJIitdhOhFyc9jXXhGnPQT+uVAAl9jXfhGnPQT+uNjXfhGnPQT+uVAAl9jXfhGnPQT+uNjXfhGnPQT+uVAAl9jXfhGnPQT+uNjXfhGnPQT+uVAAl9jXfhGnPQT+uNjXfhGnPQT+uVAAl9jXfhGnPQT+uNjXfhGnPQT+uVAAl9jXfhGnPQT+uNjXfhGnPQT+uVAAlltmra1jWVV+o6Ni+37ApF21TqR0jlx5cZMjZrDQWKKVtIyR0kyo6eomer5Zndb3LvX7N6mYAAAAAAAAAAAAAAAAAAAAAAAJTVzJbfLQalgY5zrY93ZLG5y+memJN3Srdzk/dUqzqkjbLG6N7UcxyKjmuTKKi8UUD5DLHUQsmie18UjUcx7VyjkXeiop3EXa5H6RuLLHXOXtRUvXtbUuVVSJyrnmHqv/tVeKbvEloAAAAAAAAAMHqm7PtFle+mbt19Q5Kajj/tzP3N8ycV8SKZOtraa3UUtZWTMhp4m7T5HruRCaslLU328d01yhfDGxqx2ulkTvo419tK5Oh706OhN28IzdhtUdjsVHbY1RUgjRrnJ+s7i53ncqr5zJgBQAAAAAAAAAAAAAAAAAAAAAAAAAAAAAAAAAAAAAAAAAAAAAAAAAAAAAAAAAAAAB4rhb6W60U1HWwMnp5W7L2O4Kn+C+NN6ExHJeNH/AJGVlRd7Ii4ZNGm3VUrep6f7Rqdab0TzFoAMfbLvb7zRtqrdWRVMK/rRu3p4lTii+Jd5kCfuOkLTcalaxrJaKvXP+mUMiwy7+tU3O/4kU8vazVtE13YV/o65v6jLjSYVE8b41TPlwBVAmW1esokTnLRaJl4fkq57fP30ZxfNrWVESKksVNnplnllx5ka3PygVBg7tqi22eVtK976qvf+boqVvOTO/wCFOCeNcIeFdOXm4Kq3fUtTzSrnse3RpTN8iv3vVPOhlrXYrXY4nMt1FFBte3eiZe/95y7186gYWlslxvlbDcdSoxjIl5ymtUbtqOJ3Q6Rf9o9Pmp0cSuAAAAAAAAAAAAAAAAAAAAAAAAAAAAAAAAAAAAAAAAAAAAAAAAAAAAAAAAAAAAAAAAAAAAAAAAAAAAAAAAAAAAAAAAAAAAAAAAAAAAAAAAAAAAAAAAAAAAAAAAAAAAAAAAAAAAAAAAAAAAAAAAAAAAAAAAAAAAAAAAAAAAAAAP/Z)"
      ],
      "metadata": {
        "id": "IlIBl48INIl8"
      }
    },
    {
      "cell_type": "markdown",
      "source": [
        "### Imports\n",
        "O framework utilizado para a construção do app foi o `LangChain`, em conjunto com o modelo de linguagem `Llama 3.1 70b`, a API de pesquisa `Tavily` e `Chroma` como Vector Store."
      ],
      "metadata": {
        "id": "ZqUKpZ3OJQmn"
      }
    },
    {
      "cell_type": "code",
      "execution_count": null,
      "metadata": {
        "colab": {
          "base_uri": "https://localhost:8080/"
        },
        "id": "z6Fss9WPqzw-",
        "outputId": "5f5a3094-03ca-40bb-961b-53e18304cda5"
      },
      "outputs": [
        {
          "output_type": "stream",
          "name": "stdout",
          "text": [
            "Requirement already satisfied: langchain-core in /usr/local/lib/python3.10/dist-packages (0.3.24)\n",
            "Requirement already satisfied: langchain-groq in /usr/local/lib/python3.10/dist-packages (0.2.1)\n",
            "Requirement already satisfied: langchain-community in /usr/local/lib/python3.10/dist-packages (0.3.11)\n",
            "Requirement already satisfied: tavily-python in /usr/local/lib/python3.10/dist-packages (0.5.0)\n",
            "Requirement already satisfied: langchain-huggingface in /usr/local/lib/python3.10/dist-packages (0.1.2)\n",
            "Requirement already satisfied: langchain-chroma in /usr/local/lib/python3.10/dist-packages (0.1.4)\n",
            "Requirement already satisfied: PyYAML>=5.3 in /usr/local/lib/python3.10/dist-packages (from langchain-core) (6.0.2)\n",
            "Requirement already satisfied: jsonpatch<2.0,>=1.33 in /usr/local/lib/python3.10/dist-packages (from langchain-core) (1.33)\n",
            "Requirement already satisfied: langsmith<0.3,>=0.1.125 in /usr/local/lib/python3.10/dist-packages (from langchain-core) (0.1.147)\n",
            "Requirement already satisfied: packaging<25,>=23.2 in /usr/local/lib/python3.10/dist-packages (from langchain-core) (24.2)\n",
            "Requirement already satisfied: pydantic<3.0.0,>=2.5.2 in /usr/local/lib/python3.10/dist-packages (from langchain-core) (2.10.3)\n",
            "Requirement already satisfied: tenacity!=8.4.0,<10.0.0,>=8.1.0 in /usr/local/lib/python3.10/dist-packages (from langchain-core) (9.0.0)\n",
            "Requirement already satisfied: typing-extensions>=4.7 in /usr/local/lib/python3.10/dist-packages (from langchain-core) (4.12.2)\n",
            "Requirement already satisfied: groq<1,>=0.4.1 in /usr/local/lib/python3.10/dist-packages (from langchain-groq) (0.13.0)\n",
            "Requirement already satisfied: SQLAlchemy<3,>=1.4 in /usr/local/lib/python3.10/dist-packages (from langchain-community) (2.0.36)\n",
            "Requirement already satisfied: aiohttp<4.0.0,>=3.8.3 in /usr/local/lib/python3.10/dist-packages (from langchain-community) (3.11.9)\n",
            "Requirement already satisfied: dataclasses-json<0.7,>=0.5.7 in /usr/local/lib/python3.10/dist-packages (from langchain-community) (0.6.7)\n",
            "Requirement already satisfied: httpx-sse<0.5.0,>=0.4.0 in /usr/local/lib/python3.10/dist-packages (from langchain-community) (0.4.0)\n",
            "Requirement already satisfied: langchain<0.4.0,>=0.3.11 in /usr/local/lib/python3.10/dist-packages (from langchain-community) (0.3.11)\n",
            "Requirement already satisfied: numpy<2,>=1.22.4 in /usr/local/lib/python3.10/dist-packages (from langchain-community) (1.26.4)\n",
            "Requirement already satisfied: pydantic-settings<3.0.0,>=2.4.0 in /usr/local/lib/python3.10/dist-packages (from langchain-community) (2.6.1)\n",
            "Requirement already satisfied: requests<3,>=2 in /usr/local/lib/python3.10/dist-packages (from langchain-community) (2.32.3)\n",
            "Requirement already satisfied: tiktoken>=0.5.1 in /usr/local/lib/python3.10/dist-packages (from tavily-python) (0.8.0)\n",
            "Requirement already satisfied: httpx in /usr/local/lib/python3.10/dist-packages (from tavily-python) (0.28.0)\n",
            "Requirement already satisfied: huggingface-hub>=0.23.0 in /usr/local/lib/python3.10/dist-packages (from langchain-huggingface) (0.26.3)\n",
            "Requirement already satisfied: sentence-transformers>=2.6.0 in /usr/local/lib/python3.10/dist-packages (from langchain-huggingface) (3.2.1)\n",
            "Requirement already satisfied: tokenizers>=0.19.1 in /usr/local/lib/python3.10/dist-packages (from langchain-huggingface) (0.20.3)\n",
            "Requirement already satisfied: transformers>=4.39.0 in /usr/local/lib/python3.10/dist-packages (from langchain-huggingface) (4.46.3)\n",
            "Requirement already satisfied: chromadb!=0.5.4,!=0.5.5,<0.6.0,>=0.4.0 in /usr/local/lib/python3.10/dist-packages (from langchain-chroma) (0.5.23)\n",
            "Requirement already satisfied: fastapi<1,>=0.95.2 in /usr/local/lib/python3.10/dist-packages (from langchain-chroma) (0.115.6)\n",
            "Requirement already satisfied: aiohappyeyeballs>=2.3.0 in /usr/local/lib/python3.10/dist-packages (from aiohttp<4.0.0,>=3.8.3->langchain-community) (2.4.4)\n",
            "Requirement already satisfied: aiosignal>=1.1.2 in /usr/local/lib/python3.10/dist-packages (from aiohttp<4.0.0,>=3.8.3->langchain-community) (1.3.1)\n",
            "Requirement already satisfied: async-timeout<6.0,>=4.0 in /usr/local/lib/python3.10/dist-packages (from aiohttp<4.0.0,>=3.8.3->langchain-community) (4.0.3)\n",
            "Requirement already satisfied: attrs>=17.3.0 in /usr/local/lib/python3.10/dist-packages (from aiohttp<4.0.0,>=3.8.3->langchain-community) (24.2.0)\n",
            "Requirement already satisfied: frozenlist>=1.1.1 in /usr/local/lib/python3.10/dist-packages (from aiohttp<4.0.0,>=3.8.3->langchain-community) (1.5.0)\n",
            "Requirement already satisfied: multidict<7.0,>=4.5 in /usr/local/lib/python3.10/dist-packages (from aiohttp<4.0.0,>=3.8.3->langchain-community) (6.1.0)\n",
            "Requirement already satisfied: propcache>=0.2.0 in /usr/local/lib/python3.10/dist-packages (from aiohttp<4.0.0,>=3.8.3->langchain-community) (0.2.1)\n",
            "Requirement already satisfied: yarl<2.0,>=1.17.0 in /usr/local/lib/python3.10/dist-packages (from aiohttp<4.0.0,>=3.8.3->langchain-community) (1.18.3)\n",
            "Requirement already satisfied: build>=1.0.3 in /usr/local/lib/python3.10/dist-packages (from chromadb!=0.5.4,!=0.5.5,<0.6.0,>=0.4.0->langchain-chroma) (1.2.2.post1)\n",
            "Requirement already satisfied: chroma-hnswlib==0.7.6 in /usr/local/lib/python3.10/dist-packages (from chromadb!=0.5.4,!=0.5.5,<0.6.0,>=0.4.0->langchain-chroma) (0.7.6)\n",
            "Requirement already satisfied: uvicorn>=0.18.3 in /usr/local/lib/python3.10/dist-packages (from uvicorn[standard]>=0.18.3->chromadb!=0.5.4,!=0.5.5,<0.6.0,>=0.4.0->langchain-chroma) (0.32.1)\n",
            "Requirement already satisfied: posthog>=2.4.0 in /usr/local/lib/python3.10/dist-packages (from chromadb!=0.5.4,!=0.5.5,<0.6.0,>=0.4.0->langchain-chroma) (3.7.4)\n",
            "Requirement already satisfied: onnxruntime>=1.14.1 in /usr/local/lib/python3.10/dist-packages (from chromadb!=0.5.4,!=0.5.5,<0.6.0,>=0.4.0->langchain-chroma) (1.20.1)\n",
            "Requirement already satisfied: opentelemetry-api>=1.2.0 in /usr/local/lib/python3.10/dist-packages (from chromadb!=0.5.4,!=0.5.5,<0.6.0,>=0.4.0->langchain-chroma) (1.29.0)\n",
            "Requirement already satisfied: opentelemetry-exporter-otlp-proto-grpc>=1.2.0 in /usr/local/lib/python3.10/dist-packages (from chromadb!=0.5.4,!=0.5.5,<0.6.0,>=0.4.0->langchain-chroma) (1.29.0)\n",
            "Requirement already satisfied: opentelemetry-instrumentation-fastapi>=0.41b0 in /usr/local/lib/python3.10/dist-packages (from chromadb!=0.5.4,!=0.5.5,<0.6.0,>=0.4.0->langchain-chroma) (0.50b0)\n",
            "Requirement already satisfied: opentelemetry-sdk>=1.2.0 in /usr/local/lib/python3.10/dist-packages (from chromadb!=0.5.4,!=0.5.5,<0.6.0,>=0.4.0->langchain-chroma) (1.29.0)\n",
            "Requirement already satisfied: pypika>=0.48.9 in /usr/local/lib/python3.10/dist-packages (from chromadb!=0.5.4,!=0.5.5,<0.6.0,>=0.4.0->langchain-chroma) (0.48.9)\n",
            "Requirement already satisfied: tqdm>=4.65.0 in /usr/local/lib/python3.10/dist-packages (from chromadb!=0.5.4,!=0.5.5,<0.6.0,>=0.4.0->langchain-chroma) (4.66.6)\n",
            "Requirement already satisfied: overrides>=7.3.1 in /usr/local/lib/python3.10/dist-packages (from chromadb!=0.5.4,!=0.5.5,<0.6.0,>=0.4.0->langchain-chroma) (7.7.0)\n",
            "Requirement already satisfied: importlib-resources in /usr/local/lib/python3.10/dist-packages (from chromadb!=0.5.4,!=0.5.5,<0.6.0,>=0.4.0->langchain-chroma) (6.4.5)\n",
            "Requirement already satisfied: grpcio>=1.58.0 in /usr/local/lib/python3.10/dist-packages (from chromadb!=0.5.4,!=0.5.5,<0.6.0,>=0.4.0->langchain-chroma) (1.68.1)\n",
            "Requirement already satisfied: bcrypt>=4.0.1 in /usr/local/lib/python3.10/dist-packages (from chromadb!=0.5.4,!=0.5.5,<0.6.0,>=0.4.0->langchain-chroma) (4.2.1)\n",
            "Requirement already satisfied: typer>=0.9.0 in /usr/local/lib/python3.10/dist-packages (from chromadb!=0.5.4,!=0.5.5,<0.6.0,>=0.4.0->langchain-chroma) (0.15.0)\n",
            "Requirement already satisfied: kubernetes>=28.1.0 in /usr/local/lib/python3.10/dist-packages (from chromadb!=0.5.4,!=0.5.5,<0.6.0,>=0.4.0->langchain-chroma) (31.0.0)\n",
            "Requirement already satisfied: mmh3>=4.0.1 in /usr/local/lib/python3.10/dist-packages (from chromadb!=0.5.4,!=0.5.5,<0.6.0,>=0.4.0->langchain-chroma) (5.0.1)\n",
            "Requirement already satisfied: orjson>=3.9.12 in /usr/local/lib/python3.10/dist-packages (from chromadb!=0.5.4,!=0.5.5,<0.6.0,>=0.4.0->langchain-chroma) (3.10.12)\n",
            "Requirement already satisfied: rich>=10.11.0 in /usr/local/lib/python3.10/dist-packages (from chromadb!=0.5.4,!=0.5.5,<0.6.0,>=0.4.0->langchain-chroma) (13.9.4)\n",
            "Requirement already satisfied: marshmallow<4.0.0,>=3.18.0 in /usr/local/lib/python3.10/dist-packages (from dataclasses-json<0.7,>=0.5.7->langchain-community) (3.23.1)\n",
            "Requirement already satisfied: typing-inspect<1,>=0.4.0 in /usr/local/lib/python3.10/dist-packages (from dataclasses-json<0.7,>=0.5.7->langchain-community) (0.9.0)\n",
            "Requirement already satisfied: starlette<0.42.0,>=0.40.0 in /usr/local/lib/python3.10/dist-packages (from fastapi<1,>=0.95.2->langchain-chroma) (0.41.3)\n",
            "Requirement already satisfied: anyio<5,>=3.5.0 in /usr/local/lib/python3.10/dist-packages (from groq<1,>=0.4.1->langchain-groq) (3.7.1)\n",
            "Requirement already satisfied: distro<2,>=1.7.0 in /usr/local/lib/python3.10/dist-packages (from groq<1,>=0.4.1->langchain-groq) (1.9.0)\n",
            "Requirement already satisfied: sniffio in /usr/local/lib/python3.10/dist-packages (from groq<1,>=0.4.1->langchain-groq) (1.3.1)\n",
            "Requirement already satisfied: certifi in /usr/local/lib/python3.10/dist-packages (from httpx->tavily-python) (2024.8.30)\n",
            "Requirement already satisfied: httpcore==1.* in /usr/local/lib/python3.10/dist-packages (from httpx->tavily-python) (1.0.7)\n",
            "Requirement already satisfied: idna in /usr/local/lib/python3.10/dist-packages (from httpx->tavily-python) (3.10)\n",
            "Requirement already satisfied: h11<0.15,>=0.13 in /usr/local/lib/python3.10/dist-packages (from httpcore==1.*->httpx->tavily-python) (0.14.0)\n",
            "Requirement already satisfied: filelock in /usr/local/lib/python3.10/dist-packages (from huggingface-hub>=0.23.0->langchain-huggingface) (3.16.1)\n",
            "Requirement already satisfied: fsspec>=2023.5.0 in /usr/local/lib/python3.10/dist-packages (from huggingface-hub>=0.23.0->langchain-huggingface) (2024.10.0)\n",
            "Requirement already satisfied: jsonpointer>=1.9 in /usr/local/lib/python3.10/dist-packages (from jsonpatch<2.0,>=1.33->langchain-core) (3.0.0)\n",
            "Requirement already satisfied: langchain-text-splitters<0.4.0,>=0.3.0 in /usr/local/lib/python3.10/dist-packages (from langchain<0.4.0,>=0.3.11->langchain-community) (0.3.2)\n",
            "Requirement already satisfied: requests-toolbelt<2.0.0,>=1.0.0 in /usr/local/lib/python3.10/dist-packages (from langsmith<0.3,>=0.1.125->langchain-core) (1.0.0)\n",
            "Requirement already satisfied: annotated-types>=0.6.0 in /usr/local/lib/python3.10/dist-packages (from pydantic<3.0.0,>=2.5.2->langchain-core) (0.7.0)\n",
            "Requirement already satisfied: pydantic-core==2.27.1 in /usr/local/lib/python3.10/dist-packages (from pydantic<3.0.0,>=2.5.2->langchain-core) (2.27.1)\n",
            "Requirement already satisfied: python-dotenv>=0.21.0 in /usr/local/lib/python3.10/dist-packages (from pydantic-settings<3.0.0,>=2.4.0->langchain-community) (1.0.1)\n",
            "Requirement already satisfied: charset-normalizer<4,>=2 in /usr/local/lib/python3.10/dist-packages (from requests<3,>=2->langchain-community) (3.4.0)\n",
            "Requirement already satisfied: urllib3<3,>=1.21.1 in /usr/local/lib/python3.10/dist-packages (from requests<3,>=2->langchain-community) (2.2.3)\n",
            "Requirement already satisfied: torch>=1.11.0 in /usr/local/lib/python3.10/dist-packages (from sentence-transformers>=2.6.0->langchain-huggingface) (2.5.1+cu121)\n",
            "Requirement already satisfied: scikit-learn in /usr/local/lib/python3.10/dist-packages (from sentence-transformers>=2.6.0->langchain-huggingface) (1.5.2)\n",
            "Requirement already satisfied: scipy in /usr/local/lib/python3.10/dist-packages (from sentence-transformers>=2.6.0->langchain-huggingface) (1.13.1)\n",
            "Requirement already satisfied: Pillow in /usr/local/lib/python3.10/dist-packages (from sentence-transformers>=2.6.0->langchain-huggingface) (11.0.0)\n",
            "Requirement already satisfied: greenlet!=0.4.17 in /usr/local/lib/python3.10/dist-packages (from SQLAlchemy<3,>=1.4->langchain-community) (3.1.1)\n",
            "Requirement already satisfied: regex>=2022.1.18 in /usr/local/lib/python3.10/dist-packages (from tiktoken>=0.5.1->tavily-python) (2024.9.11)\n",
            "Requirement already satisfied: safetensors>=0.4.1 in /usr/local/lib/python3.10/dist-packages (from transformers>=4.39.0->langchain-huggingface) (0.4.5)\n",
            "Requirement already satisfied: exceptiongroup in /usr/local/lib/python3.10/dist-packages (from anyio<5,>=3.5.0->groq<1,>=0.4.1->langchain-groq) (1.2.2)\n",
            "Requirement already satisfied: pyproject_hooks in /usr/local/lib/python3.10/dist-packages (from build>=1.0.3->chromadb!=0.5.4,!=0.5.5,<0.6.0,>=0.4.0->langchain-chroma) (1.2.0)\n",
            "Requirement already satisfied: tomli>=1.1.0 in /usr/local/lib/python3.10/dist-packages (from build>=1.0.3->chromadb!=0.5.4,!=0.5.5,<0.6.0,>=0.4.0->langchain-chroma) (2.2.1)\n",
            "Requirement already satisfied: six>=1.9.0 in /usr/local/lib/python3.10/dist-packages (from kubernetes>=28.1.0->chromadb!=0.5.4,!=0.5.5,<0.6.0,>=0.4.0->langchain-chroma) (1.16.0)\n",
            "Requirement already satisfied: python-dateutil>=2.5.3 in /usr/local/lib/python3.10/dist-packages (from kubernetes>=28.1.0->chromadb!=0.5.4,!=0.5.5,<0.6.0,>=0.4.0->langchain-chroma) (2.8.2)\n",
            "Requirement already satisfied: google-auth>=1.0.1 in /usr/local/lib/python3.10/dist-packages (from kubernetes>=28.1.0->chromadb!=0.5.4,!=0.5.5,<0.6.0,>=0.4.0->langchain-chroma) (2.27.0)\n",
            "Requirement already satisfied: websocket-client!=0.40.0,!=0.41.*,!=0.42.*,>=0.32.0 in /usr/local/lib/python3.10/dist-packages (from kubernetes>=28.1.0->chromadb!=0.5.4,!=0.5.5,<0.6.0,>=0.4.0->langchain-chroma) (1.8.0)\n",
            "Requirement already satisfied: requests-oauthlib in /usr/local/lib/python3.10/dist-packages (from kubernetes>=28.1.0->chromadb!=0.5.4,!=0.5.5,<0.6.0,>=0.4.0->langchain-chroma) (1.3.1)\n",
            "Requirement already satisfied: oauthlib>=3.2.2 in /usr/local/lib/python3.10/dist-packages (from kubernetes>=28.1.0->chromadb!=0.5.4,!=0.5.5,<0.6.0,>=0.4.0->langchain-chroma) (3.2.2)\n",
            "Requirement already satisfied: durationpy>=0.7 in /usr/local/lib/python3.10/dist-packages (from kubernetes>=28.1.0->chromadb!=0.5.4,!=0.5.5,<0.6.0,>=0.4.0->langchain-chroma) (0.9)\n",
            "Requirement already satisfied: coloredlogs in /usr/local/lib/python3.10/dist-packages (from onnxruntime>=1.14.1->chromadb!=0.5.4,!=0.5.5,<0.6.0,>=0.4.0->langchain-chroma) (15.0.1)\n",
            "Requirement already satisfied: flatbuffers in /usr/local/lib/python3.10/dist-packages (from onnxruntime>=1.14.1->chromadb!=0.5.4,!=0.5.5,<0.6.0,>=0.4.0->langchain-chroma) (24.3.25)\n",
            "Requirement already satisfied: protobuf in /usr/local/lib/python3.10/dist-packages (from onnxruntime>=1.14.1->chromadb!=0.5.4,!=0.5.5,<0.6.0,>=0.4.0->langchain-chroma) (5.29.1)\n",
            "Requirement already satisfied: sympy in /usr/local/lib/python3.10/dist-packages (from onnxruntime>=1.14.1->chromadb!=0.5.4,!=0.5.5,<0.6.0,>=0.4.0->langchain-chroma) (1.13.1)\n",
            "Requirement already satisfied: deprecated>=1.2.6 in /usr/local/lib/python3.10/dist-packages (from opentelemetry-api>=1.2.0->chromadb!=0.5.4,!=0.5.5,<0.6.0,>=0.4.0->langchain-chroma) (1.2.15)\n",
            "Requirement already satisfied: importlib-metadata<=8.5.0,>=6.0 in /usr/local/lib/python3.10/dist-packages (from opentelemetry-api>=1.2.0->chromadb!=0.5.4,!=0.5.5,<0.6.0,>=0.4.0->langchain-chroma) (8.5.0)\n",
            "Requirement already satisfied: googleapis-common-protos~=1.52 in /usr/local/lib/python3.10/dist-packages (from opentelemetry-exporter-otlp-proto-grpc>=1.2.0->chromadb!=0.5.4,!=0.5.5,<0.6.0,>=0.4.0->langchain-chroma) (1.66.0)\n",
            "Requirement already satisfied: opentelemetry-exporter-otlp-proto-common==1.29.0 in /usr/local/lib/python3.10/dist-packages (from opentelemetry-exporter-otlp-proto-grpc>=1.2.0->chromadb!=0.5.4,!=0.5.5,<0.6.0,>=0.4.0->langchain-chroma) (1.29.0)\n",
            "Requirement already satisfied: opentelemetry-proto==1.29.0 in /usr/local/lib/python3.10/dist-packages (from opentelemetry-exporter-otlp-proto-grpc>=1.2.0->chromadb!=0.5.4,!=0.5.5,<0.6.0,>=0.4.0->langchain-chroma) (1.29.0)\n",
            "Requirement already satisfied: opentelemetry-instrumentation-asgi==0.50b0 in /usr/local/lib/python3.10/dist-packages (from opentelemetry-instrumentation-fastapi>=0.41b0->chromadb!=0.5.4,!=0.5.5,<0.6.0,>=0.4.0->langchain-chroma) (0.50b0)\n",
            "Requirement already satisfied: opentelemetry-instrumentation==0.50b0 in /usr/local/lib/python3.10/dist-packages (from opentelemetry-instrumentation-fastapi>=0.41b0->chromadb!=0.5.4,!=0.5.5,<0.6.0,>=0.4.0->langchain-chroma) (0.50b0)\n",
            "Requirement already satisfied: opentelemetry-semantic-conventions==0.50b0 in /usr/local/lib/python3.10/dist-packages (from opentelemetry-instrumentation-fastapi>=0.41b0->chromadb!=0.5.4,!=0.5.5,<0.6.0,>=0.4.0->langchain-chroma) (0.50b0)\n",
            "Requirement already satisfied: opentelemetry-util-http==0.50b0 in /usr/local/lib/python3.10/dist-packages (from opentelemetry-instrumentation-fastapi>=0.41b0->chromadb!=0.5.4,!=0.5.5,<0.6.0,>=0.4.0->langchain-chroma) (0.50b0)\n",
            "Requirement already satisfied: wrapt<2.0.0,>=1.0.0 in /usr/local/lib/python3.10/dist-packages (from opentelemetry-instrumentation==0.50b0->opentelemetry-instrumentation-fastapi>=0.41b0->chromadb!=0.5.4,!=0.5.5,<0.6.0,>=0.4.0->langchain-chroma) (1.17.0)\n",
            "Requirement already satisfied: asgiref~=3.0 in /usr/local/lib/python3.10/dist-packages (from opentelemetry-instrumentation-asgi==0.50b0->opentelemetry-instrumentation-fastapi>=0.41b0->chromadb!=0.5.4,!=0.5.5,<0.6.0,>=0.4.0->langchain-chroma) (3.8.1)\n",
            "Requirement already satisfied: monotonic>=1.5 in /usr/local/lib/python3.10/dist-packages (from posthog>=2.4.0->chromadb!=0.5.4,!=0.5.5,<0.6.0,>=0.4.0->langchain-chroma) (1.6)\n",
            "Requirement already satisfied: backoff>=1.10.0 in /usr/local/lib/python3.10/dist-packages (from posthog>=2.4.0->chromadb!=0.5.4,!=0.5.5,<0.6.0,>=0.4.0->langchain-chroma) (2.2.1)\n",
            "Requirement already satisfied: markdown-it-py>=2.2.0 in /usr/local/lib/python3.10/dist-packages (from rich>=10.11.0->chromadb!=0.5.4,!=0.5.5,<0.6.0,>=0.4.0->langchain-chroma) (3.0.0)\n",
            "Requirement already satisfied: pygments<3.0.0,>=2.13.0 in /usr/local/lib/python3.10/dist-packages (from rich>=10.11.0->chromadb!=0.5.4,!=0.5.5,<0.6.0,>=0.4.0->langchain-chroma) (2.18.0)\n",
            "Requirement already satisfied: networkx in /usr/local/lib/python3.10/dist-packages (from torch>=1.11.0->sentence-transformers>=2.6.0->langchain-huggingface) (3.4.2)\n",
            "Requirement already satisfied: jinja2 in /usr/local/lib/python3.10/dist-packages (from torch>=1.11.0->sentence-transformers>=2.6.0->langchain-huggingface) (3.1.4)\n",
            "Requirement already satisfied: mpmath<1.4,>=1.1.0 in /usr/local/lib/python3.10/dist-packages (from sympy->onnxruntime>=1.14.1->chromadb!=0.5.4,!=0.5.5,<0.6.0,>=0.4.0->langchain-chroma) (1.3.0)\n",
            "Requirement already satisfied: click>=8.0.0 in /usr/local/lib/python3.10/dist-packages (from typer>=0.9.0->chromadb!=0.5.4,!=0.5.5,<0.6.0,>=0.4.0->langchain-chroma) (8.1.7)\n",
            "Requirement already satisfied: shellingham>=1.3.0 in /usr/local/lib/python3.10/dist-packages (from typer>=0.9.0->chromadb!=0.5.4,!=0.5.5,<0.6.0,>=0.4.0->langchain-chroma) (1.5.4)\n",
            "Requirement already satisfied: mypy-extensions>=0.3.0 in /usr/local/lib/python3.10/dist-packages (from typing-inspect<1,>=0.4.0->dataclasses-json<0.7,>=0.5.7->langchain-community) (1.0.0)\n",
            "Requirement already satisfied: httptools>=0.6.3 in /usr/local/lib/python3.10/dist-packages (from uvicorn[standard]>=0.18.3->chromadb!=0.5.4,!=0.5.5,<0.6.0,>=0.4.0->langchain-chroma) (0.6.4)\n",
            "Requirement already satisfied: uvloop!=0.15.0,!=0.15.1,>=0.14.0 in /usr/local/lib/python3.10/dist-packages (from uvicorn[standard]>=0.18.3->chromadb!=0.5.4,!=0.5.5,<0.6.0,>=0.4.0->langchain-chroma) (0.21.0)\n",
            "Requirement already satisfied: watchfiles>=0.13 in /usr/local/lib/python3.10/dist-packages (from uvicorn[standard]>=0.18.3->chromadb!=0.5.4,!=0.5.5,<0.6.0,>=0.4.0->langchain-chroma) (1.0.3)\n",
            "Requirement already satisfied: websockets>=10.4 in /usr/local/lib/python3.10/dist-packages (from uvicorn[standard]>=0.18.3->chromadb!=0.5.4,!=0.5.5,<0.6.0,>=0.4.0->langchain-chroma) (14.1)\n",
            "Requirement already satisfied: joblib>=1.2.0 in /usr/local/lib/python3.10/dist-packages (from scikit-learn->sentence-transformers>=2.6.0->langchain-huggingface) (1.4.2)\n",
            "Requirement already satisfied: threadpoolctl>=3.1.0 in /usr/local/lib/python3.10/dist-packages (from scikit-learn->sentence-transformers>=2.6.0->langchain-huggingface) (3.5.0)\n",
            "Requirement already satisfied: cachetools<6.0,>=2.0.0 in /usr/local/lib/python3.10/dist-packages (from google-auth>=1.0.1->kubernetes>=28.1.0->chromadb!=0.5.4,!=0.5.5,<0.6.0,>=0.4.0->langchain-chroma) (5.5.0)\n",
            "Requirement already satisfied: pyasn1-modules>=0.2.1 in /usr/local/lib/python3.10/dist-packages (from google-auth>=1.0.1->kubernetes>=28.1.0->chromadb!=0.5.4,!=0.5.5,<0.6.0,>=0.4.0->langchain-chroma) (0.4.1)\n",
            "Requirement already satisfied: rsa<5,>=3.1.4 in /usr/local/lib/python3.10/dist-packages (from google-auth>=1.0.1->kubernetes>=28.1.0->chromadb!=0.5.4,!=0.5.5,<0.6.0,>=0.4.0->langchain-chroma) (4.9)\n",
            "Requirement already satisfied: zipp>=3.20 in /usr/local/lib/python3.10/dist-packages (from importlib-metadata<=8.5.0,>=6.0->opentelemetry-api>=1.2.0->chromadb!=0.5.4,!=0.5.5,<0.6.0,>=0.4.0->langchain-chroma) (3.21.0)\n",
            "Requirement already satisfied: mdurl~=0.1 in /usr/local/lib/python3.10/dist-packages (from markdown-it-py>=2.2.0->rich>=10.11.0->chromadb!=0.5.4,!=0.5.5,<0.6.0,>=0.4.0->langchain-chroma) (0.1.2)\n",
            "Requirement already satisfied: humanfriendly>=9.1 in /usr/local/lib/python3.10/dist-packages (from coloredlogs->onnxruntime>=1.14.1->chromadb!=0.5.4,!=0.5.5,<0.6.0,>=0.4.0->langchain-chroma) (10.0)\n",
            "Requirement already satisfied: MarkupSafe>=2.0 in /usr/local/lib/python3.10/dist-packages (from jinja2->torch>=1.11.0->sentence-transformers>=2.6.0->langchain-huggingface) (3.0.2)\n",
            "Requirement already satisfied: pyasn1<0.7.0,>=0.4.6 in /usr/local/lib/python3.10/dist-packages (from pyasn1-modules>=0.2.1->google-auth>=1.0.1->kubernetes>=28.1.0->chromadb!=0.5.4,!=0.5.5,<0.6.0,>=0.4.0->langchain-chroma) (0.6.1)\n"
          ]
        }
      ],
      "source": [
        "!pip install langchain-core langchain-groq langchain-community tavily-python langchain-huggingface langchain-chroma"
      ]
    },
    {
      "cell_type": "code",
      "source": [
        "from google.colab import userdata\n",
        "import os\n",
        "from langchain_groq import ChatGroq\n",
        "from langchain_community.tools import TavilySearchResults\n",
        "from langchain_community.document_loaders import WebBaseLoader\n",
        "from langchain_text_splitters import RecursiveCharacterTextSplitter\n",
        "from langchain_chroma import Chroma\n",
        "from langchain_huggingface import HuggingFaceEmbeddings\n",
        "from langchain_core.prompts import ChatPromptTemplate\n",
        "from langchain_core.prompts import ChatPromptTemplate\n",
        "from langchain_core.messages import AIMessage, HumanMessage"
      ],
      "metadata": {
        "colab": {
          "base_uri": "https://localhost:8080/"
        },
        "id": "AMaTUMk0q9t1",
        "outputId": "f8603c50-9643-4f47-a47c-7c83ae66c78a"
      },
      "execution_count": null,
      "outputs": [
        {
          "output_type": "stream",
          "name": "stderr",
          "text": [
            "WARNING:langchain_community.utils.user_agent:USER_AGENT environment variable not set, consider setting it to identify your requests.\n"
          ]
        }
      ]
    },
    {
      "cell_type": "code",
      "source": [
        "#env\n",
        "os.environ[\"LANGCHAIN_TRACING_V2\"]= \"true\"\n",
        "os.environ[\"LANGCHAIN_ENDPOINT\"]=\"https://api.smith.langchain.com\"\n",
        "os.environ[\"LANGCHAIN_PROJECT\"]=\"KISS\"\n",
        "os.environ[\"LANGCHAIN_API_KEY\"] = userdata.get('LANGCHAIN_API_KEY')\n",
        "os.environ[\"GROQ_API_KEY\"] = userdata.get('GROQ_API_KEY')\n",
        "os.environ[\"TAVILY_API_KEY\"] = userdata.get('TAVILY2_API_KEY')"
      ],
      "metadata": {
        "id": "qMcN3DL_rYcV"
      },
      "execution_count": null,
      "outputs": []
    },
    {
      "cell_type": "markdown",
      "source": [
        "### Definições"
      ],
      "metadata": {
        "id": "3hKx5xKkKoB8"
      }
    },
    {
      "cell_type": "markdown",
      "source": [
        "Definição dos modelo e seus parâmetros."
      ],
      "metadata": {
        "id": "gemhXhkZJ5An"
      }
    },
    {
      "cell_type": "code",
      "source": [
        "llm = ChatGroq(model=\"llama-3.1-70b-versatile\", temperature=0.1)"
      ],
      "metadata": {
        "id": "nxDc6gCUsMa6"
      },
      "execution_count": null,
      "outputs": []
    },
    {
      "cell_type": "markdown",
      "source": [
        "Ferramenta de pesquisa"
      ],
      "metadata": {
        "id": "IR8qsBg1J-fe"
      }
    },
    {
      "cell_type": "code",
      "source": [
        "#Search Tool\n",
        "tool = TavilySearchResults(\n",
        "    max_results=5,\n",
        "    search_depth=\"advanced\",\n",
        "    include_answer=False,\n",
        "    include_raw_content=False,\n",
        "    include_images=False,\n",
        ")\n",
        "\n",
        "def get_url(tool: TavilySearchResults, query: str):\n",
        "  response = tool.invoke(query)\n",
        "  urls = []\n",
        "  for i in response:\n",
        "    urls.append(i[\"url\"])\n",
        "  return urls"
      ],
      "metadata": {
        "id": "8TC3lY1osdgV"
      },
      "execution_count": null,
      "outputs": []
    },
    {
      "cell_type": "markdown",
      "source": [
        "Definição do modelo de embedding e a vectorstore"
      ],
      "metadata": {
        "id": "BR7wq4ixKbDp"
      }
    },
    {
      "cell_type": "code",
      "source": [
        "embeddings_model = HuggingFaceEmbeddings(model_name=\"sentence-transformers/all-mpnet-base-v2\")\n",
        "vectorstore = Chroma(embedding_function=embeddings_model)"
      ],
      "metadata": {
        "colab": {
          "base_uri": "https://localhost:8080/"
        },
        "id": "hWu1GzP9PNNS",
        "outputId": "883ee849-6957-4c6c-fb48-19817c94e7d7"
      },
      "execution_count": null,
      "outputs": [
        {
          "output_type": "stream",
          "name": "stderr",
          "text": [
            "/usr/local/lib/python3.10/dist-packages/sentence_transformers/cross_encoder/CrossEncoder.py:13: TqdmExperimentalWarning: Using `tqdm.autonotebook.tqdm` in notebook mode. Use `tqdm.tqdm` instead to force console mode (e.g. in jupyter console)\n",
            "  from tqdm.autonotebook import tqdm, trange\n",
            "/usr/local/lib/python3.10/dist-packages/huggingface_hub/utils/_auth.py:94: UserWarning: \n",
            "The secret `HF_TOKEN` does not exist in your Colab secrets.\n",
            "To authenticate with the Hugging Face Hub, create a token in your settings tab (https://huggingface.co/settings/tokens), set it as secret in your Google Colab and restart your session.\n",
            "You will be able to reuse this secret in all of your notebooks.\n",
            "Please note that authentication is recommended but still optional to access public models or datasets.\n",
            "  warnings.warn(\n"
          ]
        }
      ]
    },
    {
      "cell_type": "markdown",
      "source": [
        "Definição de como serão carregados, pre-processados e divididos os documentos."
      ],
      "metadata": {
        "id": "xy6jd6d8KQqk"
      }
    },
    {
      "cell_type": "code",
      "source": [
        "#Store\n",
        "def store_vector(vectorstore: Chroma, docs):\n",
        "  vectorstore.add_documents(docs)"
      ],
      "metadata": {
        "id": "lKmQalkRK1u4"
      },
      "execution_count": null,
      "outputs": []
    },
    {
      "cell_type": "code",
      "source": [
        "#Vector Store\n",
        "def load_data(urls):\n",
        "  loader = WebBaseLoader(\n",
        "    web_paths=urls,\n",
        "  )\n",
        "  data = loader.load()\n",
        "  return data"
      ],
      "metadata": {
        "id": "HVlMw1o3szcE"
      },
      "execution_count": null,
      "outputs": []
    },
    {
      "cell_type": "code",
      "source": [
        "#Pre-processamento dos documentos\n",
        "import re\n",
        "\n",
        "def normalize_text(docs):\n",
        "  for doc in docs:\n",
        "    text = doc.page_content\n",
        "    text = text.replace(\"\\n\", \" \").replace(\"\\r\", \" \").replace(\"\\t\", \" \")\n",
        "    text = re.sub(r\"\\s+\", \" \", text)\n",
        "    text = text.strip()\n",
        "    doc.page_content = text\n",
        "\n",
        "  return docs"
      ],
      "metadata": {
        "id": "-7W7yXsxtT39"
      },
      "execution_count": null,
      "outputs": []
    },
    {
      "cell_type": "code",
      "source": [
        "#Divisor dos documentos\n",
        "text_splitter = RecursiveCharacterTextSplitter(\n",
        "    chunk_size=2000,  # chunk size (characters)\n",
        "    chunk_overlap=200,  # chunk overlap (characters)\n",
        "    add_start_index=True,  # track index in original document\n",
        ")"
      ],
      "metadata": {
        "id": "AFZ7nXOl1nV4"
      },
      "execution_count": null,
      "outputs": []
    },
    {
      "cell_type": "code",
      "source": [
        "#Retriever\n",
        "retriever = vectorstore.as_retriever(search_type=\"similarity\", search_kwargs={\"k\": 10})"
      ],
      "metadata": {
        "id": "D25gok1YK8x9"
      },
      "execution_count": null,
      "outputs": []
    },
    {
      "cell_type": "markdown",
      "source": [
        "Prompt que junta a query com os documentos recuperados pelo retriever, além de especificar como deve ser feita a resposta e seu formato de saída."
      ],
      "metadata": {
        "id": "Zv9tfS3EKtKy"
      }
    },
    {
      "cell_type": "code",
      "source": [
        "#Prompt\n",
        "system_prompt = (\n",
        "  \"###Instruções###\"\n",
        "  \"Aja como um jornalista profissional responsável por fazer um resumo das\"\n",
        "  \"notícias recentes com objetivo de atrair os usuários que lêem apenas o título das notícias.\"\n",
        "  \"Você é um jornalista. Resuma as notícias que envolvem o tópico.\"\n",
        "  \"Se não conseguir fazer o resumo, responda que não tem conhecimentos sobre o tema.\"\n",
        "  \"Dê para os usuários um resumo conciso e coeso sobre a notícia em até 5 frases.\"\n",
        "  \"Escreva o texto usando linguagem profissional.\"\n",
        "  \"Fale apenas sobre elementos presentes no contexto apresentado abaixo:\"\n",
        "  \"\\n\"\n",
        "  \"{context}\"\n",
        ")\n",
        "\n",
        "prompt = ChatPromptTemplate.from_messages(\n",
        "    [\n",
        "        (\"system\", system_prompt),\n",
        "        (\"human\", \"{input}\"),\n",
        "    ]\n",
        ")"
      ],
      "metadata": {
        "id": "p8Axt55INwUe"
      },
      "execution_count": null,
      "outputs": []
    },
    {
      "cell_type": "markdown",
      "source": [
        "Definição do pipeline que irá juntar a query aos documentos recuperados pelo retriever em um prompt e passar tudo para o modelo de linguagem."
      ],
      "metadata": {
        "id": "Vxuctt0TMUMI"
      }
    },
    {
      "cell_type": "code",
      "source": [
        "#Chain\n",
        "from langchain.chains import create_retrieval_chain\n",
        "from langchain.chains.combine_documents import create_stuff_documents_chain\n",
        "\n",
        "question_answer_chain = create_stuff_documents_chain(llm, prompt)\n",
        "rag_chain = create_retrieval_chain(retriever, question_answer_chain)"
      ],
      "metadata": {
        "id": "Loj1w49gN3Oy"
      },
      "execution_count": null,
      "outputs": []
    },
    {
      "cell_type": "code",
      "source": [
        "#Generation\n",
        "def prompt_making(prompt:ChatPromptTemplate, query: str) -> dict:\n",
        "  response = rag_chain.invoke(\n",
        "      {\"input\": query}\n",
        "  )\n",
        "  return response"
      ],
      "metadata": {
        "id": "JVBTLOh6OZIa"
      },
      "execution_count": null,
      "outputs": []
    },
    {
      "cell_type": "markdown",
      "source": [
        "Formatação da resposta e inclusão das referências/fontes."
      ],
      "metadata": {
        "id": "Wn3OOnj9Mndi"
      }
    },
    {
      "cell_type": "code",
      "source": [
        "#Deixa o retorno bonito\n",
        "def format_to_markdown(raw_text: str) -> str:\n",
        "    # Limpar quebras de linha desnecessárias\n",
        "    clean_text = re.sub(r\"\\s+\", \" \", raw_text.strip())\n",
        "\n",
        "    # Separar o título do restante\n",
        "    if \": \" in clean_text:\n",
        "        title, content = clean_text.split(\": \", 1)\n",
        "        markdown_text = f\"# {title.strip()}\\n\\n\"\n",
        "    else:\n",
        "        content = clean_text\n",
        "        markdown_text = \"\"\n",
        "\n",
        "    # Encontrar os itens com bullet points e formatar\n",
        "    items = re.findall(r\"\\* \\*\\*(.*?)\\*\\*: (.*?)\\*\", content)\n",
        "    if items:\n",
        "        for item_title, item_content in items:\n",
        "            markdown_text += f\"## {item_title.strip()}\\n\\n{item_content.strip()}\\n\\n\"\n",
        "    else:\n",
        "        # Caso não haja bullet points, apenas adicionar o texto bruto\n",
        "        markdown_text += content\n",
        "\n",
        "    return markdown_text"
      ],
      "metadata": {
        "id": "dpwOJFOE5Hnr"
      },
      "execution_count": null,
      "outputs": []
    },
    {
      "cell_type": "code",
      "source": [
        "#Insere as fontes do texto no final da resposta.\n",
        "def insert_source(resposta: dict) -> str:\n",
        "  sources = []\n",
        "  context = resposta.get(\"context\")\n",
        "  for doc in context:\n",
        "    source = doc.metadata.get(\"source\") + \" \\n\"\n",
        "    if source not in sources:\n",
        "      sources.append(source)\n",
        "    if len(sources) == 5: break\n",
        "\n",
        "  sources_str = \" \".join(sources)\n",
        "  answer = format_to_markdown(resposta.get(\"answer\")) + \"\\nLeia mais em: \\n\" + sources_str\n",
        "  return answer"
      ],
      "metadata": {
        "id": "zvuSZJ34PdOy"
      },
      "execution_count": null,
      "outputs": []
    },
    {
      "cell_type": "markdown",
      "source": [
        "Encapsulamento de todas as funções."
      ],
      "metadata": {
        "id": "kwCPkLIaMsUg"
      }
    },
    {
      "cell_type": "code",
      "source": [
        "#Encapsula todas as funções\n",
        "def conduza(query: str):\n",
        "  urls = get_url(tool,query)\n",
        "  docs = load_data(urls)\n",
        "  docs = normalize_text(docs)\n",
        "  all_splits = text_splitter.split_documents(docs)\n",
        "  vectorstore.add_documents(all_splits)\n",
        "  response = prompt_making(prompt, query=query)\n",
        "  answer = insert_source(response)\n",
        "  return answer"
      ],
      "metadata": {
        "id": "cJ4L40ilOk8C"
      },
      "execution_count": null,
      "outputs": []
    },
    {
      "cell_type": "markdown",
      "source": [
        "### Faça sua pergunta."
      ],
      "metadata": {
        "id": "TG6Sb9SsLIkG"
      }
    },
    {
      "cell_type": "code",
      "source": [
        "resposta = conduza(\"brownsville's ka\")\n",
        "print(resposta)"
      ],
      "metadata": {
        "id": "G3LCVgKaOpxc",
        "colab": {
          "base_uri": "https://localhost:8080/"
        },
        "outputId": "aebb75f8-62f9-457c-b538-dda302fc8016"
      },
      "execution_count": null,
      "outputs": [
        {
          "output_type": "stream",
          "name": "stdout",
          "text": [
            "Brownsville Ka, cujo nome verdadeiro era Kaseem Ryan, foi um rapper e produtor musical americano de Brooklyn, Nova York. Ele também era um bombeiro do Corpo de Bombeiros da Cidade de Nova York (FDNY) e foi um dos primeiros a responder aos ataques de 11 de setembro de 2001. Ka nasceu em 1972 e cresceu no bairro de Brownsville, em Brooklyn. Ele começou a se interessar por hip-hop ainda criança e começou a rapper aos 8 anos de idade. Ele se juntou ao grupo Natural Elements em 1994, mas logo saiu do grupo e começou a trabalhar em projetos solo. Em 2008, Ka lançou seu álbum de estreia solo, \"Iron Works\", que foi bem recebido pela crítica. Ele continuou a lançar álbuns solo ao longo dos anos, incluindo \"The Night's Gambit\" (2013), \"Honor Killed the Samurai\" (2016) e \"The Thief Next to Jesus\" (2024). Ka era conhecido por seu estilo de rapper único, que combinava letras complexas e uma entrega suave. Ele também era conhecido por sua independência e seu compromisso com a comunidade de Brownsville, onde ele cresceu. Infelizmente, Ka faleceu em 12 de outubro de 2024, aos 52 anos de idade. Sua morte foi anunciada em sua conta do Instagram, e sua família e amigos pediram que sua privacidade fosse respeitada durante esse momento difícil. Ka deixou um legado como um dos principais rappers underground de Nova York, e sua música continua a ser ouvida e apreciada por fãs de hip-hop em todo o mundo.\n",
            "Leia mais em: \n",
            "https://www.tmz.com/2024/10/14/ka-brownsville-brooklyn-rapper-dead-nyfd/ \n",
            " https://allhiphop.com/news/ka-acclaimed-rapper-roc-marciano-collaborator-dead-at-52/ \n",
            " https://thesource.com/2024/10/14/brooklyn-rap-vet-brownsville-ka-dead-at-52/ \n",
            " https://en.wikipedia.org/wiki/Ka_(rapper) \n",
            " https://pitchfork.com/news/ka-beloved-rapper-of-the-brooklyn-underground-dies-at-52/ \n",
            "\n"
          ]
        }
      ]
    },
    {
      "cell_type": "code",
      "source": [
        "resposta2 = conduza(\"o que está acontecendo na Síria?\")\n",
        "print(resposta2)"
      ],
      "metadata": {
        "colab": {
          "base_uri": "https://localhost:8080/"
        },
        "id": "1kpafIHcQmgk",
        "outputId": "748befa9-fec9-4c58-8abd-6ab02661b0ba"
      },
      "execution_count": null,
      "outputs": [
        {
          "output_type": "stream",
          "name": "stdout",
          "text": [
            "A Síria está passando por um momento de grande instabilidade e conflito. Uma nova coligação rebelde lançou um ataque surpresa e conquistou território em Alepo, quebrando o impasse de uma guerra que nunca terminou formalmente. O reacendimento do conflito, que já matou mais de 300.000 pessoas e fez sair do país quase seis milhões de refugiados, tem também amplas ramificações na região e não só. O novo grupo é constituído por um vasto espectro de forças da oposição, desde fações islamistas a moderados. A liderá-los está o Hayat Tahrir al-Sham, um antigo afiliado da Al-Qaeda na Síria, que costumava chamar-se Frente Al-Nusra. O grupo cortou oficialmente os laços com a Al-Qaeda e tem sido o governante de facto em Idlib. A Síria vai reagir ao ataque rebelde com a ajuda de seus aliados, incluindo a Rússia e o Irão. Os jatos sírios e russos têm atacado os rebeldes em Alepo e Idlib, uma tática que foi crucial para a reconquista de território durante a guerra civil. O futuro da Síria é incerto, e a comunidade internacional está observando atentamente os desdobramentos. A esperança de liberdade e prosperidade para o povo sírio permanece, embora o futuro político do país ainda seja uma incógnita. Além disso, o líder do HTS, conhecido como Julani, prometeu respeitar as minorias e permitir que o povo sírio decida o futuro do país. No entanto, a comunidade internacional permanece apreensiva devido ao histórico do grupo e suas antigas ligações com organizações terroristas. A situação atual na Síria permanece surpreendentemente calma, sem relatos de ações contra a população civil. No entanto, o equilíbrio de poder na região foi alterado, com a Turquia emergindo como potencial beneficiária da mudança, enquanto Irã e Rússia perdem influência.\n",
            "Leia mais em: \n",
            "https://cnnportugal.iol.pt/siria/bashar-al-assad/o-que-esta-a-acontecer-na-siria-compreenda-com-este-guia-simples/20241206/6752d6efd34ea1acf2717f30 \n",
            " https://cnnportugal.iol.pt/siria/aleppo/o-que-esta-a-acontecer-na-siria-quatro-respostas-para-entender-o-que-se-passa/20241202/674db8fdd34e94b8290823dd \n",
            " https://www.itatiaia.com.br/mundo/2024/12/08/entenda-o-que-esta-acontecendo-na-siria-com-a-tomada-de-poder-e-queda-de-bashar-al-assad \n",
            " https://www.opovo.com.br/noticias/mundo/2024/12/10/ataque-de-eua-e-israel-a-siria-destroi-alvos-do-ei-armas-quimicas-e-misseis.html \n",
            "\n"
          ]
        }
      ]
    },
    {
      "cell_type": "code",
      "source": [
        "resposta3 = conduza(\"Arsenal x Monaco\")\n",
        "print(resposta3)"
      ],
      "metadata": {
        "colab": {
          "base_uri": "https://localhost:8080/"
        },
        "id": "el53-Xw3QuCe",
        "outputId": "b1b60eea-8b95-4971-a2fb-6f3611625aeb"
      },
      "execution_count": null,
      "outputs": [
        {
          "output_type": "stream",
          "name": "stdout",
          "text": [
            "# O Arsenal enfrentará o Monaco no dia 11 de dezembro de 2024, às 20:00 UTC, no Emirates Stadium, em Londres, Inglaterra, pela UEFA Champions League. Atualmente, o Arsenal ocupa a 10ª posição, enquanto o Monaco ocupa a 11ª posição. O Arsenal está lidando com uma lista de lesões crescente, e o técnico Mikel Arteta disse que a equipe precisa se adaptar à situação. O Monaco, por outro lado, está em uma boa forma, tendo vencido cinco de seus últimos sete jogos. A partida será transmitida ao vivo pela Paramount+ e TUDN USA, e também estará disponível para streaming através de parceiros de apostas ou links na Sofascore. Os dois times têm uma história recente de confrontos, com o Monaco tendo vencido cinco de seus últimos sete jogos contra o Arsenal. No entanto, o Arsenal está em casa e busca uma vitória para melhorar sua posição na tabela. Fontes\n",
            "\n",
            "* Sofascore * ESPN * UEFA.com * BBC Sport * NBC Sports\n",
            "Leia mais em: \n",
            "https://www.sofascore.com/football/match/as-monaco-arsenal/RdI \n",
            " https://www.espn.com/soccer/match/_/gameId/720325/as-monaco-arsenal \n",
            " https://www.uefa.com/uefachampionsleague/match/2042020--arsenal-vs-monaco/ \n",
            " https://www.nbcsports.com/soccer/news/how-to-watch-arsenal-vs-monaco-live-stream-link-tv-channel-team-news-prediction \n",
            " https://www.bbc.com/sport/football/live/c7866g31qjjt \n",
            "\n"
          ]
        }
      ]
    },
    {
      "cell_type": "code",
      "source": [
        "resposta4 = conduza(\"qual a contratação mais cara do baseball?\")\n",
        "print(resposta4)"
      ],
      "metadata": {
        "colab": {
          "base_uri": "https://localhost:8080/"
        },
        "id": "0CsCW5l4Sg4n",
        "outputId": "e496b7a2-4792-40cb-f888-b47472a25e0f"
      },
      "execution_count": null,
      "outputs": [
        {
          "output_type": "stream",
          "name": "stdout",
          "text": [
            "A contratação mais cara do baseball é a do jogador Juan Soto, que assinou um contrato de 15 anos com o New York Mets no valor de US$ 765 milhões (aproximadamente R$ 4,65 bilhões). Esse contrato é o mais robusto e mais longo da história da Major League Baseball (MLB) e um recorde para os esportes.\n",
            "Leia mais em: \n",
            "https://www.flashscore.pt/noticias/basebol-mlb-atleta-mais-caro-do-mundo-estrela-do-basebol-soto-assina-contrato-milionario-recorde/ED7EpaQO/ \n",
            " https://www.band.uol.com.br/esportes/saiba-quem-e-shohei-ohtani-dono-do-contrato-mais-caro-da-historia-do-esporte-16654024 \n",
            " https://brasil.perfil.com/esporte/mlb-dodgers-apresenta-shohei-ohtani-contratacao-mais-cara-da-historia.phtml \n",
            " https://www.uol.com.br/esporte/ultimas-noticias/agencia/2024/12/09/jogador-de-beisebol-acerta-maior-contrato-da-historia-do-esporte-r-46-bilhoes.htm \n",
            " https://www.estadao.com.br/esportes/jogador-de-beisebol-acerta-maior-contrato-da-historia-do-esporte-r-46-bilhoes-npres/ \n",
            "\n"
          ]
        }
      ]
    }
  ]
}